{
 "cells": [
  {
   "cell_type": "code",
   "execution_count": 1,
   "metadata": {},
   "outputs": [
    {
     "data": {
      "text/html": [
       "<script>requirejs.config({paths: { 'plotly': ['https://cdn.plot.ly/plotly-latest.min']},});if(!window.Plotly) {{require(['plotly'],function(plotly) {window.Plotly=plotly;});}}</script>"
      ],
      "text/vnd.plotly.v1+html": [
       "<script>requirejs.config({paths: { 'plotly': ['https://cdn.plot.ly/plotly-latest.min']},});if(!window.Plotly) {{require(['plotly'],function(plotly) {window.Plotly=plotly;});}}</script>"
      ]
     },
     "metadata": {},
     "output_type": "display_data"
    }
   ],
   "source": [
    "from plotly.offline import download_plotlyjs, init_notebook_mode, plot,iplot  #for offline plotting\n",
    "init_notebook_mode(connected=True)  #for offline plotting\n",
    "import plotly.graph_objs as go\n",
    "import plotly.plotly as py\n",
    "\n",
    "import pandas as pd\n",
    "import numpy as np"
   ]
  },
  {
   "cell_type": "code",
   "execution_count": 2,
   "metadata": {
    "collapsed": true
   },
   "outputs": [],
   "source": [
    "PATH = 'WDI_csv/'"
   ]
  },
  {
   "cell_type": "code",
   "execution_count": 3,
   "metadata": {},
   "outputs": [
    {
     "name": "stdout",
     "output_type": "stream",
     "text": [
      "\u001b[31mWDICountry-Series.csv\u001b[m\u001b[m \u001b[31mWDIData.csv\u001b[m\u001b[m           \u001b[31mWDISeries-Time.csv\u001b[m\u001b[m\r\n",
      "\u001b[31mWDICountry.csv\u001b[m\u001b[m        \u001b[31mWDIFootNote.csv\u001b[m\u001b[m       \u001b[31mWDISeries.csv\u001b[m\u001b[m\r\n"
     ]
    }
   ],
   "source": [
    "!ls {PATH}"
   ]
  },
  {
   "cell_type": "code",
   "execution_count": 4,
   "metadata": {
    "collapsed": true
   },
   "outputs": [],
   "source": [
    "df = pd.read_csv('Indicators.csv')"
   ]
  },
  {
   "cell_type": "code",
   "execution_count": 5,
   "metadata": {},
   "outputs": [
    {
     "data": {
      "text/plain": [
       "(5656458, 6)"
      ]
     },
     "execution_count": 5,
     "metadata": {},
     "output_type": "execute_result"
    }
   ],
   "source": [
    "df.shape"
   ]
  },
  {
   "cell_type": "code",
   "execution_count": 6,
   "metadata": {
    "collapsed": true
   },
   "outputs": [],
   "source": [
    "# Indicator to look for to Start a business\n",
    "d = dict()\n",
    "d['Time required to start a business (days)'] = 'IC.REG.DURS'\n",
    "d['Start-up procedures to register a business (number)'] = 'IC.REG.PROC'\n",
    "d['Time required to register property (days)'] = 'IC.PRP.DURS'\n",
    "d['Documents to export (number)'] = 'IC.EXP.DOCS'\n",
    "d['Documents to import (number)'] = 'IC.IMP.DOCS'\n",
    "d['Cost to export (USdollar per container)'] = 'IC.EXP.COST.CD'\n",
    "d['Cost to import (USdollar per container)'] = 'IC.IMP.COST.CD'\n",
    "d['Wage and salaried workers, total (% of total employed)'] = 'SL.EMP.WORK.ZS'"
   ]
  },
  {
   "cell_type": "code",
   "execution_count": 7,
   "metadata": {},
   "outputs": [
    {
     "data": {
      "text/plain": [
       "['Time required to start a business (days)',\n",
       " 'Start-up procedures to register a business (number)',\n",
       " 'Time required to register property (days)',\n",
       " 'Documents to export (number)',\n",
       " 'Documents to import (number)',\n",
       " 'Cost to export (USdollar per container)',\n",
       " 'Cost to import (USdollar per container)',\n",
       " 'Wage and salaried workers, total (% of total employed)']"
      ]
     },
     "execution_count": 7,
     "metadata": {},
     "output_type": "execute_result"
    }
   ],
   "source": [
    "button_names = [i for i in d.keys()] # i.split(\" (\")[0]\n",
    "button_names"
   ]
  },
  {
   "cell_type": "code",
   "execution_count": 8,
   "metadata": {},
   "outputs": [],
   "source": [
    "year = 2013\n",
    "Data = []\n",
    "Layout = []\n",
    "counter = 0\n",
    "\n",
    "for indicator in button_names:\n",
    "    \n",
    "    tmp = df[(df['Year'] == year)]\n",
    "    tmp = tmp[tmp['IndicatorCode'] == d[indicator]][['CountryName', 'Value']].sort_values('Value')    \n",
    "    tmp1 = pd.concat([tmp.head(10), tmp.tail(10)])\n",
    "    tmp1 = pd.concat([tmp1, tmp.loc[(tmp['CountryName'] == 'China') | (tmp['CountryName'] == 'United States')]])\n",
    "    del tmp\n",
    "    \n",
    "    # bar chart with highlights on two countries\n",
    "    tmp1 = tmp1.sort_values('Value')\n",
    "    y = tmp1.CountryName\n",
    "    color=np.array(['rgba(204, 204, 204, 1)'] * y.shape[0])\n",
    "    color[y=='China'] = 'rgba(222,45,38,0.9)'\n",
    "    color[y=='United States'] = 'rgba(55, 128, 191, 0.9)'\n",
    "    \n",
    "    graph = go.Bar(\n",
    "        x=tmp1.Value,\n",
    "        y=y,\n",
    "        name = button_names[counter],\n",
    "        #visible=False,\n",
    "        orientation = 'h',\n",
    "        marker=dict(color=color.tolist()) \n",
    "    )\n",
    "    \n",
    "    counter += 1\n",
    "    Data.append(graph)"
   ]
  },
  {
   "cell_type": "code",
   "execution_count": 9,
   "metadata": {},
   "outputs": [],
   "source": [
    "buttons = []\n",
    "counter = 0\n",
    "for item in button_names:\n",
    "    vis = [False]*len(button_names)\n",
    "    vis[counter] = True\n",
    "    button = dict(label = item,\n",
    "                  method = 'update',\n",
    "                  args = [{'visible': vis},\n",
    "                          {'title': button_names[counter] + ' in '+ str(year) + ': Top and Bottom 10 Countries'}],\n",
    "                  \n",
    "                 )\n",
    "    buttons.append(button)\n",
    "    counter += 1"
   ]
  },
  {
   "cell_type": "code",
   "execution_count": 44,
   "metadata": {
    "collapsed": true
   },
   "outputs": [],
   "source": [
    "updatemenus = list([\n",
    "    dict(active=-1,\n",
    "         buttons=buttons,\n",
    "        direction='down',\n",
    "        x = 1,\n",
    "        xanchor = 'right',\n",
    "        y = 1,\n",
    "        yanchor = 'bottom',\n",
    "        showactive = True,\n",
    "        )\n",
    "])"
   ]
  },
  {
   "cell_type": "code",
   "execution_count": 45,
   "metadata": {
    "collapsed": true
   },
   "outputs": [],
   "source": [
    "layout = dict(\n",
    "              title='Some of the important indicators for companies that trades internationally', \n",
    "              showlegend=False,\n",
    "              updatemenus=updatemenus,\n",
    "              hovermode='closest'\n",
    "             )"
   ]
  },
  {
   "cell_type": "code",
   "execution_count": 47,
   "metadata": {},
   "outputs": [
    {
     "data": {
      "text/plain": [
       "'https://plot.ly/~BenLiu1991/85'"
      ]
     },
     "execution_count": 47,
     "metadata": {},
     "output_type": "execute_result"
    }
   ],
   "source": [
    "fig = dict(data=Data, layout=layout)\n",
    "py.plot(fig, filename='update_dropdown', auto_open=False)"
   ]
  },
  {
   "cell_type": "code",
   "execution_count": null,
   "metadata": {
    "collapsed": true
   },
   "outputs": [],
   "source": []
  },
  {
   "cell_type": "code",
   "execution_count": null,
   "metadata": {
    "collapsed": true
   },
   "outputs": [],
   "source": []
  }
 ],
 "metadata": {
  "kernelspec": {
   "display_name": "Python 3",
   "language": "python",
   "name": "python3"
  },
  "language_info": {
   "codemirror_mode": {
    "name": "ipython",
    "version": 3
   },
   "file_extension": ".py",
   "mimetype": "text/x-python",
   "name": "python",
   "nbconvert_exporter": "python",
   "pygments_lexer": "ipython3",
   "version": "3.6.2"
  }
 },
 "nbformat": 4,
 "nbformat_minor": 2
}
