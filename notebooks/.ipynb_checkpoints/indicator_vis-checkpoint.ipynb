{
 "cells": [
  {
   "cell_type": "code",
   "execution_count": 1,
   "metadata": {
    "collapsed": true
   },
   "outputs": [],
   "source": [
    "import numpy as np\n",
    "import pandas as pd\n",
    "from collections import Counter\n",
    "\n",
    "import plotly.plotly as py\n",
    "import plotly.graph_objs as go"
   ]
  },
  {
   "cell_type": "code",
   "execution_count": 2,
   "metadata": {
    "collapsed": true
   },
   "outputs": [],
   "source": [
    "import matplotlib.pyplot as plt"
   ]
  },
  {
   "cell_type": "code",
   "execution_count": 3,
   "metadata": {},
   "outputs": [
    {
     "name": "stdout",
     "output_type": "stream",
     "text": [
      "ALL_EXPORTS.ipynb                beta_chart_import_export.ipynb\r\n",
      "FINAL_Eatingfood_functions.ipynb indicator_vis.ipynb\r\n",
      "FINAL_top_exports_imports.ipynb  startup.ipynb\r\n",
      "basic-line.html\r\n"
     ]
    }
   ],
   "source": [
    "!ls"
   ]
  },
  {
   "cell_type": "code",
   "execution_count": 8,
   "metadata": {
    "collapsed": true
   },
   "outputs": [],
   "source": [
    "PATH = '../WDI_csv/'"
   ]
  },
  {
   "cell_type": "code",
   "execution_count": 9,
   "metadata": {},
   "outputs": [
    {
     "name": "stdout",
     "output_type": "stream",
     "text": [
      "\u001b[31mIndicators.csv\u001b[m\u001b[m        \u001b[31mWDIData.csv\u001b[m\u001b[m           \u001b[31mWDISeries.csv\u001b[m\u001b[m\r\n",
      "\u001b[31mWDICountry-Series.csv\u001b[m\u001b[m \u001b[31mWDIFootNote.csv\u001b[m\u001b[m\r\n",
      "\u001b[31mWDICountry.csv\u001b[m\u001b[m        \u001b[31mWDISeries-Time.csv\u001b[m\u001b[m\r\n"
     ]
    }
   ],
   "source": [
    "!ls {PATH}"
   ]
  },
  {
   "cell_type": "code",
   "execution_count": 10,
   "metadata": {
    "collapsed": true
   },
   "outputs": [],
   "source": [
    "df = pd.read_csv(PATH+'Indicators.csv')"
   ]
  },
  {
   "cell_type": "code",
   "execution_count": 11,
   "metadata": {},
   "outputs": [
    {
     "data": {
      "text/plain": [
       "(5656458, 6)"
      ]
     },
     "execution_count": 11,
     "metadata": {},
     "output_type": "execute_result"
    }
   ],
   "source": [
    "df.shape"
   ]
  },
  {
   "cell_type": "code",
   "execution_count": 7,
   "metadata": {
    "collapsed": true
   },
   "outputs": [],
   "source": [
    "# # \tWage and salaried workers, total (% of total employed)\n",
    "# Counter(df[(df['IndicatorCode'] == 'SL.EMP.WORK.ZS')].Year)\n",
    "\n",
    "# # IC.REG.DURS\tTime required to start a business (days)\n",
    "# Counter(df[(df['IndicatorCode'] == 'IC.REG.DURS')].Year)\n",
    "\n",
    "# # Start-up procedures to register a business (number)\n",
    "# Counter(df[(df['IndicatorCode'] == 'IC.REG.PROC')].Year)\n",
    "\n",
    "# # Time required to register property (days)\n",
    "# Counter(df[(df['IndicatorCode'] == 'IC.PRP.DURS')].Year)\n",
    "\n",
    "# # IC.EXP.DOCS\tDocuments to export (number)\n",
    "# Counter(df[(df['IndicatorCode'] == 'IC.EXP.DOCS')].Year)\n",
    "\n",
    "# # Documents to import (number)\n",
    "# Counter(df[(df['IndicatorCode'] == 'IC.IMP.DOCS')].Year)\n",
    "\n",
    "# # Cost to export (USdollar per container)\n",
    "# Counter(df[(df['IndicatorCode'] == 'IC.EXP.COST.CD')].Year)\n",
    "\n",
    "# # Cost to import (USdollar per container)\n",
    "# Counter(df[(df['IndicatorCode'] == 'IC.IMP.COST.CD')].Year)"
   ]
  },
  {
   "cell_type": "code",
   "execution_count": 8,
   "metadata": {
    "collapsed": true
   },
   "outputs": [],
   "source": [
    "# Indicator to look for to Start a business\n",
    "d = dict()\n",
    "d['Time required to start a business (days)'] = 'IC.REG.DURS'\n",
    "d['Start-up procedures to register a business (number)'] = 'IC.REG.PROC'\n",
    "d['Time required to register property (days)'] = 'IC.PRP.DURS'\n",
    "d['Documents to export (number)'] = 'IC.EXP.DOCS'\n",
    "d['Documents to import (number)'] = 'IC.IMP.DOCS'\n",
    "d['Cost to export (USdollar per container)'] = 'IC.EXP.COST.CD'\n",
    "d['Cost to import (USdollar per container)'] = 'IC.IMP.COST.CD'\n",
    "d['Wage and salaried workers, total (% of total employed)'] = 'SL.EMP.WORK.ZS'"
   ]
  },
  {
   "cell_type": "code",
   "execution_count": null,
   "metadata": {
    "collapsed": true
   },
   "outputs": [],
   "source": [
    "PATH"
   ]
  },
  {
   "cell_type": "code",
   "execution_count": 9,
   "metadata": {
    "collapsed": true
   },
   "outputs": [],
   "source": [
    "def plot_horizontal_barchart(ind, year, top_n=None, d=d, df=df):\n",
    "    tmp = df[(df['Year'] == 2013)]\n",
    "    tmp = tmp[tmp['IndicatorCode'] == d[ind]][['CountryName', 'Value']].sort_values('Value')\n",
    "    if top_n:\n",
    "        tmp = tmp.iloc[:top_n, :]\n",
    "    \n",
    "    # bar chart\n",
    "    data = [go.Bar(\n",
    "            x=tmp.Value,\n",
    "            y=tmp.CountryName,\n",
    "            orientation = 'h'\n",
    "    )]\n",
    "    layout = go.Layout(title=ind)\n",
    "    return py.iplot({'data': data, 'layout': layout}, filename='horizontal-bar')\n",
    "    #return tmp"
   ]
  },
  {
   "cell_type": "code",
   "execution_count": 10,
   "metadata": {
    "collapsed": true
   },
   "outputs": [],
   "source": [
    "z = plot_horizontal_barchart('Documents to export (number)', 2013, 50)\n",
    "y = plot_horizontal_barchart('Time required to start a business (days)', 2013, 50)"
   ]
  },
  {
   "cell_type": "code",
   "execution_count": 11,
   "metadata": {},
   "outputs": [
    {
     "data": {
      "text/html": [
       "<iframe id=\"igraph\" scrolling=\"no\" style=\"border:none;\" seamless=\"seamless\" src=\"https://plot.ly/~tdlee/157.embed\" height=\"525px\" width=\"100%\"></iframe>"
      ],
      "text/plain": [
       "<plotly.tools.PlotlyDisplay object>"
      ]
     },
     "execution_count": 11,
     "metadata": {},
     "output_type": "execute_result"
    }
   ],
   "source": [
    "z"
   ]
  },
  {
   "cell_type": "code",
   "execution_count": 12,
   "metadata": {},
   "outputs": [
    {
     "data": {
      "text/html": [
       "<iframe id=\"igraph\" scrolling=\"no\" style=\"border:none;\" seamless=\"seamless\" src=\"https://plot.ly/~tdlee/157.embed\" height=\"525px\" width=\"100%\"></iframe>"
      ],
      "text/plain": [
       "<plotly.tools.PlotlyDisplay object>"
      ]
     },
     "execution_count": 12,
     "metadata": {},
     "output_type": "execute_result"
    }
   ],
   "source": [
    "y"
   ]
  },
  {
   "cell_type": "code",
   "execution_count": null,
   "metadata": {
    "collapsed": true
   },
   "outputs": [],
   "source": []
  }
 ],
 "metadata": {
  "kernelspec": {
   "display_name": "Python 3",
   "language": "python",
   "name": "python3"
  },
  "language_info": {
   "codemirror_mode": {
    "name": "ipython",
    "version": 3
   },
   "file_extension": ".py",
   "mimetype": "text/x-python",
   "name": "python",
   "nbconvert_exporter": "python",
   "pygments_lexer": "ipython3",
   "version": "3.6.2"
  }
 },
 "nbformat": 4,
 "nbformat_minor": 2
}
