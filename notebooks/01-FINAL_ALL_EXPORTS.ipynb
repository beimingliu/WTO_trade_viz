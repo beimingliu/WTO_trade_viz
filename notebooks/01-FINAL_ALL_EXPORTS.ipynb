{
 "cells": [
  {
   "cell_type": "markdown",
   "metadata": {},
   "source": [
    "## Data Imports"
   ]
  },
  {
   "cell_type": "code",
   "execution_count": 1,
   "metadata": {},
   "outputs": [],
   "source": [
    "import pandas as pd\n",
    "import numpy as np\n",
    "import requests\n",
    "import ujson\n",
    "import os\n",
    "\n",
    "import plotly\n",
    "from plotly import tools\n",
    "\n",
    "import plotly\n",
    "with open('/Users/timlee/Dropbox/keys/plotly_apikey.txt','r') as f:\n",
    "    api_key = f.read()\n",
    "plotly.tools.set_credentials_file(username='tdlee', api_key=api_key)\n",
    "\n",
    "import plotly.plotly as ply\n",
    "import plotly.graph_objs as go\n",
    "from plotly.grid_objs import Grid, Column"
   ]
  },
  {
   "cell_type": "markdown",
   "metadata": {},
   "source": [
    "### Data Preprocessing"
   ]
  },
  {
   "cell_type": "code",
   "execution_count": 3,
   "metadata": {},
   "outputs": [],
   "source": [
    "country_codes = ['chn', 'idn', 'ind', 'jpn', 'sau', 'tur', 'twn',\n",
    "                 'bel', 'che', 'deu', 'esp', 'fra', 'gbr', 'ita',\n",
    "                 'nld', 'pol', 'rus', 'swe', 'can', 'mex', 'usa',\n",
    "                 'aus', 'arg', 'bra', 'tha']\n",
    "\n",
    "\n",
    "def get_countries_lkup():\n",
    "    countries_url = 'https://atlas.media.mit.edu/attr/country/'\n",
    "    resp = requests.get(countries_url)\n",
    "    resp_json = ujson.loads(resp.content)['data']\n",
    "    resp_df = pd.DataFrame(resp_json)\n",
    "    country_id_lkup = {idx: name for idx, name in resp_df[['display_id','name']].values}\n",
    "    return country_id_lkup\n",
    "\n",
    "\n",
    "def get_data(countrycode):\n",
    "    imports_url = './OEC_%s_imports.feather' % countrycode\n",
    "    exports_url = './OEC_%s_exports.feather' % countrycode\n",
    "    \n",
    "    if not os.path.isfile(imports_url):\n",
    "        return None, None\n",
    "    \n",
    "    if not os.path.isfile(exports_url):\n",
    "        return None, None\n",
    "        \n",
    "    \n",
    "    df_exports = pd.read_feather(exports_url)\n",
    "    df_exports = df_exports[df_exports['export_val'].isna()==False].copy()\n",
    "    df_exports = df_exports.sort_values(by='export_val')\n",
    "    \n",
    "    df_imports = pd.read_feather(imports_url)\n",
    "    df_imports = df_imports[df_imports['import_val'].isna() == False].copy()\n",
    "    df_imports = df_imports.sort_values(by = 'import_val')\n",
    "    \n",
    "    return df_imports, df_exports\n",
    "\n",
    "\n",
    "\n",
    "def all_ports(country_codes):\n",
    "    import_collector = []\n",
    "    export_collector = []\n",
    "    for countrycode in country_codes:\n",
    "        df_imports, df_exports = get_data(countrycode)\n",
    "        if df_imports is not None:\n",
    "            df_imp_tmp = df_imports[['year','product_name','import_val']].copy()\n",
    "            df_imp_tmp['countrycode'] = countrycode\n",
    "            df_exp_tmp = df_exports[['year','product_name','export_val']].copy()\n",
    "            df_exp_tmp['countrycode'] = countrycode\n",
    "            import_collector.append(df_imp_tmp)\n",
    "            export_collector.append(df_exp_tmp)\n",
    "        \n",
    "    return pd.concat(import_collector), pd.concat(export_collector)\n",
    "    "
   ]
  },
  {
   "cell_type": "markdown",
   "metadata": {},
   "source": [
    "### Creating Import Ratio Chart"
   ]
  },
  {
   "cell_type": "code",
   "execution_count": 9,
   "metadata": {},
   "outputs": [
    {
     "data": {
      "text/html": [
       "<iframe id=\"igraph\" scrolling=\"no\" style=\"border:none;\" seamless=\"seamless\" src=\"https://plot.ly/~tdlee/365.embed\" height=\"600px\" width=\"900px\"></iframe>"
      ],
      "text/plain": [
       "<plotly.tools.PlotlyDisplay object>"
      ]
     },
     "execution_count": 9,
     "metadata": {},
     "output_type": "execute_result"
    }
   ],
   "source": [
    "df_summary_imp = import_collector.groupby(['countrycode','year'])['import_val'].sum().reset_index()\n",
    "df_summary_exp = export_collector.groupby(['countrycode','year'])['export_val'].sum().reset_index()\n",
    "df_total= df_summary_imp.merge(df_summary_exp, on=['year','countrycode'])\n",
    "df_total['imp_ratio'] = df_total['export_val'] / df_total['import_val']\n",
    "df_total.sort_values('imp_ratio', inplace=True, ascending=False)\n",
    "\n",
    "traces = []\n",
    "titles = []\n",
    "for countrycode in df_total['countrycode'].unique():\n",
    "    titles.append(country_id_lkup[countrycode])\n",
    "    mask = df_total['countrycode'] == countrycode\n",
    "    tmp = df_total[mask].copy()\n",
    "    tmp = tmp.sort_values('year')\n",
    "    tr = go.Scatter(\n",
    "        x = tmp['year'].values,\n",
    "        y = tmp['imp_ratio'].values,\n",
    "        mode = 'lines',\n",
    "        line = dict(width=5),\n",
    "        name = country_id_lkup[countrycode]\n",
    "    )\n",
    "    traces.append(tr)\n",
    "    \n",
    "font_dict = dict(\n",
    "            family='Roboto',\n",
    "            size=20\n",
    "        )\n",
    "\n",
    "layout = go.Layout(\n",
    "    font = font_dict,\n",
    "    hovermode='closest',\n",
    "    width=900,\n",
    "    height=600,\n",
    "    xaxis=dict(\n",
    "        title='Year',\n",
    "        titlefont=font_dict,\n",
    "        tickfont=font_dict,        \n",
    "    ),\n",
    "    yaxis=dict(\n",
    "        title='Import Ratio',\n",
    "        type = 'log',\n",
    "        titlefont=font_dict,\n",
    "        tickfont=font_dict,\n",
    "    ),\n",
    ")\n",
    "\n",
    "fig = dict(data=traces, layout=layout)\n",
    "ply.iplot(fig, filename='import_ratio')"
   ]
  },
  {
   "cell_type": "markdown",
   "metadata": {},
   "source": [
    "### Get top Country codes"
   ]
  },
  {
   "cell_type": "code",
   "execution_count": 36,
   "metadata": {},
   "outputs": [],
   "source": [
    "countries_lkup = get_countries_lkup()\n",
    "mask = df_total['year'] == 2010\n",
    "tmp = df_total[mask].sort_values(by='imp_ratio', ascending=False)\n",
    "top20_codes = list(tmp['countrycode'].values)\n",
    "top20_codes = top20_codes[:20]\n",
    "titles = [countries_lkup[cd] for cd in top20_codes]"
   ]
  },
  {
   "cell_type": "code",
   "execution_count": 37,
   "metadata": {},
   "outputs": [
    {
     "data": {
      "text/plain": [
       "['sau',\n",
       " 'rus',\n",
       " 'chn',\n",
       " 'idn',\n",
       " 'arg',\n",
       " 'aus',\n",
       " 'jpn',\n",
       " 'deu',\n",
       " 'bra',\n",
       " 'mex',\n",
       " 'swe',\n",
       " 'che',\n",
       " 'can',\n",
       " 'nld',\n",
       " 'ita',\n",
       " 'fra',\n",
       " 'pol',\n",
       " 'esp',\n",
       " 'tur',\n",
       " 'gbr']"
      ]
     },
     "execution_count": 37,
     "metadata": {},
     "output_type": "execute_result"
    }
   ],
   "source": [
    "top20_codes"
   ]
  },
  {
   "cell_type": "markdown",
   "metadata": {},
   "source": [
    "### Create small multiples chart for Export / Import ratio"
   ]
  },
  {
   "cell_type": "code",
   "execution_count": 39,
   "metadata": {},
   "outputs": [
    {
     "name": "stdout",
     "output_type": "stream",
     "text": [
      "This is the format of your plot grid:\n",
      "[ (1,1) x1,y1 ]    [ (1,2) x2,y2 ]    [ (1,3) x3,y3 ]    [ (1,4) x4,y4 ]  \n",
      "[ (2,1) x5,y5 ]    [ (2,2) x6,y6 ]    [ (2,3) x7,y7 ]    [ (2,4) x8,y8 ]  \n",
      "[ (3,1) x9,y9 ]    [ (3,2) x10,y10 ]  [ (3,3) x11,y11 ]  [ (3,4) x12,y12 ]\n",
      "[ (4,1) x13,y13 ]  [ (4,2) x14,y14 ]  [ (4,3) x15,y15 ]  [ (4,4) x16,y16 ]\n",
      "[ (5,1) x17,y17 ]  [ (5,2) x18,y18 ]  [ (5,3) x19,y19 ]  [ (5,4) x20,y20 ]\n",
      "\n"
     ]
    },
    {
     "data": {
      "text/html": [
       "<iframe id=\"igraph\" scrolling=\"no\" style=\"border:none;\" seamless=\"seamless\" src=\"https://plot.ly/~tdlee/428.embed\" height=\"1000px\" width=\"1000px\"></iframe>"
      ],
      "text/plain": [
       "<plotly.tools.PlotlyDisplay object>"
      ]
     },
     "execution_count": 39,
     "metadata": {},
     "output_type": "execute_result"
    }
   ],
   "source": [
    "subplots = tools.make_subplots(rows=5, cols=4, subplot_titles=titles)\n",
    "\n",
    "traces = []\n",
    "titles = []\n",
    "for countrycode in top20_codes:\n",
    "    titles.append(country_id_lkup[countrycode])\n",
    "    mask = df_total['countrycode'] == countrycode\n",
    "    tmp = df_total[mask].copy()\n",
    "    tmp = tmp.sort_values('year')\n",
    "    tr = go.Scatter(\n",
    "        x = tmp['year'].values,\n",
    "        y = tmp['imp_ratio'].values,\n",
    "        mode = 'lines',\n",
    "        line = dict(width=5),\n",
    "        name = country_id_lkup[countrycode]\n",
    "    )\n",
    "    traces.append(tr)\n",
    "    \n",
    "counter = 0\n",
    "for i in range(5):\n",
    "    for j in range(4):\n",
    "        subplots.append_trace(traces[counter], i+1, j+1)\n",
    "        counter += 1\n",
    "        subplots['layout']['yaxis' + str(counter)].update(type='log')\n",
    "        subplots['layout']['yaxis' + str(counter)].update(range=[-0.4,.7])\n",
    "        \n",
    "subplots['layout'].update(title=\"Top Countries Export / Import Ratio\")\n",
    "subplots['layout'].update(font=dict(family='Roboto', size=12))\n",
    "\n",
    "for d in subplots['layout']['annotations']:\n",
    "    d['font']['size']=12\n",
    "\n",
    "# yaxis=dict(\n",
    "#     title='Import Ratio',\n",
    "#     type = 'log',\n",
    "# )\n",
    "\n",
    "subplots['layout'].update(height=1000, width=1000)\n",
    "subplots['layout'].update(showlegend=False)\n",
    "?subplots['layout'].update(yaxis=yaxis)\n",
    "\n",
    "ply.iplot(subplots, filename='Top_Countries_imp_exp_ratio_multiples')"
   ]
  },
  {
   "cell_type": "markdown",
   "metadata": {},
   "source": [
    "### Create Imports Heatmap"
   ]
  },
  {
   "cell_type": "code",
   "execution_count": 32,
   "metadata": {},
   "outputs": [],
   "source": [
    "df_summary_imp = import_collector.groupby(['product_name','year'])['import_val'].sum().reset_index().sort_values('import_val')\n",
    "df_summary_exp = export_collector.groupby(['product_name','year'])['export_val'].sum().reset_index().sort_values('export_val')\n",
    "\n",
    "mask = (df_summary_imp['year'] == 2014) & (df_summary_imp['import_val'] > 0)\n",
    "top_100_imp_prod = df_summary_imp.loc[mask,'product_name'].tail(50)\n",
    "\n",
    "mask = (df_summary_exp['year'] == 2014) & (df_summary_exp['export_val'] > 0)\n",
    "top_100_exp_prod = df_summary_exp.loc[mask,'product_name'].tail(50)\n",
    "\n",
    "mask = import_collector['product_name'].isin(top_100_imp_prod)\n",
    "df_summary_imp = import_collector[mask].groupby(['product_name','countrycode','year'])['import_val'].sum().reset_index().sort_values('import_val')\n",
    "\n",
    "mask = export_collector['product_name'].isin(top_100_exp_prod)\n",
    "df_summary_exp = export_collector[mask].groupby(['product_name','countrycode','year'])['export_val'].sum().reset_index().sort_values('export_val')"
   ]
  },
  {
   "cell_type": "code",
   "execution_count": 40,
   "metadata": {},
   "outputs": [],
   "source": [
    "year = 2014\n",
    "mask = df_summary_imp['year'] == year\n",
    "piv_data = df_summary_imp[mask].pivot(index='product_name', columns='countrycode', values='import_val' )\n",
    "piv_data = piv_data.fillna(0)\n",
    "tr = go.Heatmap(\n",
    "    z = piv_data.as_matrix(),\n",
    "    x = piv_data.columns,\n",
    "    y = piv_data.index,\n",
    "    colorscale = 'Viridis'\n",
    ")"
   ]
  },
  {
   "cell_type": "code",
   "execution_count": 41,
   "metadata": {},
   "outputs": [
    {
     "data": {
      "text/html": [
       "<iframe id=\"igraph\" scrolling=\"no\" style=\"border:none;\" seamless=\"seamless\" src=\"https://plot.ly/~tdlee/371.embed\" height=\"900px\" width=\"900px\"></iframe>"
      ],
      "text/plain": [
       "<plotly.tools.PlotlyDisplay object>"
      ]
     },
     "execution_count": 41,
     "metadata": {},
     "output_type": "execute_result"
    }
   ],
   "source": [
    "layout = go.Layout(\n",
    "    width=900,\n",
    "    height=900,\n",
    "    title='2014 Top Imports by Country',\n",
    "    margin=dict(\n",
    "        l=200\n",
    "    )\n",
    ")\n",
    "fig = dict(data=[tr], layout=layout)\n",
    "ply.iplot(fig, filename='2014_top_import_heatmap')"
   ]
  },
  {
   "cell_type": "markdown",
   "metadata": {},
   "source": [
    "### Create Exports Heatmap"
   ]
  },
  {
   "cell_type": "code",
   "execution_count": 42,
   "metadata": {},
   "outputs": [],
   "source": [
    "year = 2014\n",
    "mask = df_summary_exp['year'] == year\n",
    "piv_data = df_summary_exp[mask].pivot(index='product_name', columns='countrycode', values='export_val' )\n",
    "piv_data = piv_data.fillna(0)\n",
    "tr = go.Heatmap(\n",
    "    z = piv_data.as_matrix(),\n",
    "    x = piv_data.columns,\n",
    "    y = piv_data.index,\n",
    "    colorscale = 'Viridis'\n",
    ")"
   ]
  },
  {
   "cell_type": "code",
   "execution_count": 43,
   "metadata": {},
   "outputs": [
    {
     "data": {
      "text/html": [
       "<iframe id=\"igraph\" scrolling=\"no\" style=\"border:none;\" seamless=\"seamless\" src=\"https://plot.ly/~tdlee/375.embed\" height=\"900px\" width=\"900px\"></iframe>"
      ],
      "text/plain": [
       "<plotly.tools.PlotlyDisplay object>"
      ]
     },
     "execution_count": 43,
     "metadata": {},
     "output_type": "execute_result"
    }
   ],
   "source": [
    "layout = go.Layout(\n",
    "    width=900,\n",
    "    height=900,\n",
    "    title='2014 Top Exports by Country',\n",
    "    margin=dict(\n",
    "        l=200\n",
    "    )\n",
    ")\n",
    "fig = dict(data=[tr], layout=layout)\n",
    "ply.iplot(fig, filename='2014_top_export_heatmap')"
   ]
  },
  {
   "cell_type": "code",
   "execution_count": null,
   "metadata": {},
   "outputs": [],
   "source": []
  }
 ],
 "metadata": {
  "kernelspec": {
   "display_name": "Python 3",
   "language": "python",
   "name": "python3"
  },
  "language_info": {
   "codemirror_mode": {
    "name": "ipython",
    "version": 3
   },
   "file_extension": ".py",
   "mimetype": "text/x-python",
   "name": "python",
   "nbconvert_exporter": "python",
   "pygments_lexer": "ipython3",
   "version": "3.6.5"
  }
 },
 "nbformat": 4,
 "nbformat_minor": 2
}
