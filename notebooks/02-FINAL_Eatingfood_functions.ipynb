{
 "cells": [
  {
   "cell_type": "markdown",
   "metadata": {},
   "source": [
    "## Food-Related Plots"
   ]
  },
  {
   "cell_type": "code",
   "execution_count": 2,
   "metadata": {},
   "outputs": [],
   "source": [
    "import pandas as pd\n",
    "import plotly\n",
    "from plotly import tools\n",
    "\n",
    "import plotly\n",
    "# with open('/Users/timlee/Dropbox/keys/plotly_apikey.txt','r') as f:\n",
    "#     api_key = f.read()\n",
    "# plotly.tools.set_credentials_file(username='tdlee', api_key=api_key)\n",
    "\n",
    "import plotly.plotly as ply\n",
    "import plotly.graph_objs as go\n",
    "from plotly.grid_objs import Grid, Column\n",
    "\n",
    "COUNTRY_COLORS = ['#1b9e77'\n",
    ",'#d95f02'\n",
    ",'#7570b3'\n",
    ",'#e7298a'\n",
    ",'#66a61e'\n",
    ",'#e6ab02']\n",
    "\n",
    "FOOD_COLORS = ['#a6cee3'\n",
    ",'#1f78b4'\n",
    ",'#b2df8a'\n",
    ",'#33a02c'\n",
    ",'#fb9a99'\n",
    ",'#e31a1c']\n",
    "\n",
    "BAR_COLOR = '#e31a1c'"
   ]
  },
  {
   "cell_type": "markdown",
   "metadata": {},
   "source": [
    "### Shared Functions"
   ]
  },
  {
   "cell_type": "code",
   "execution_count": 3,
   "metadata": {},
   "outputs": [],
   "source": [
    "def get_data():\n",
    "    df_raw = pd.read_csv('FAO.csv', encoding = \"ISO-8859-1\")    \n",
    "    index_cols = ['Area Abbreviation', 'Area Code', 'Area', 'Item Code', 'Item',\n",
    "       'Element Code', 'Element', 'Unit', 'latitude', 'longitude']\n",
    "    \n",
    "    year_cols = ['Y1961',\n",
    "       'Y1962', 'Y1963', 'Y1964', 'Y1965', 'Y1966', 'Y1967', 'Y1968', 'Y1969',\n",
    "       'Y1970', 'Y1971', 'Y1972', 'Y1973', 'Y1974', 'Y1975', 'Y1976', 'Y1977',\n",
    "       'Y1978', 'Y1979', 'Y1980', 'Y1981', 'Y1982', 'Y1983', 'Y1984', 'Y1985',\n",
    "       'Y1986', 'Y1987', 'Y1988', 'Y1989', 'Y1990', 'Y1991', 'Y1992', 'Y1993',\n",
    "       'Y1994', 'Y1995', 'Y1996', 'Y1997', 'Y1998', 'Y1999', 'Y2000', 'Y2001',\n",
    "       'Y2002', 'Y2003', 'Y2004', 'Y2005', 'Y2006', 'Y2007', 'Y2008', 'Y2009',\n",
    "       'Y2010', 'Y2011', 'Y2012', 'Y2013']\n",
    "    df = pd.melt(df_raw, id_vars = index_cols, var_name='year')\n",
    "    df['year'] = df['year'].map(lambda x : int(x[1:]))\n",
    "    \n",
    "    return df\n",
    "\n",
    "\n",
    "\n",
    "def get_topbot_n_by(field, n):\n",
    "    mask = df['year'] == 2013\n",
    "    summary = df[mask].groupby([field])['value'].sum().reset_index().sort_values('value')\n",
    "    bot_n = summary[summary['value'] > 1000].head(n)\n",
    "    top_n = summary.tail(6)\n",
    "\n",
    "    top_n_by = top_n[field].values\n",
    "    bot_n_by = bot_n[field].values\n",
    "\n",
    "    mask = df[field].isin(bot_n_by)\n",
    "    bot_over_time = (df[mask]\n",
    "                         .groupby([field,'year'])['value']\n",
    "                         .sum()\n",
    "                         .reset_index()\n",
    "                         .sort_values('year'))\n",
    "    \n",
    "\n",
    "    mask = df[field].isin(top_n_by)\n",
    "    top_over_time = (df[mask]\n",
    "                         .groupby([field,'year'])['value']\n",
    "                         .sum()\n",
    "                         .reset_index()\n",
    "                         .sort_values('year'))\n",
    "    \n",
    "    top_traces = []\n",
    "    traces = []\n",
    "    for idx, itm in enumerate(top_n[field].values[::-1]):\n",
    "        mask = top_over_time[field] == itm\n",
    "        tmp = top_over_time[mask].copy()\n",
    "        \n",
    "        if field == 'Item':\n",
    "            color = FOOD_COLORS[idx]\n",
    "        else:\n",
    "            color = COUNTRY_COLORS[idx]\n",
    "            \n",
    "        tr = go.Scatter(\n",
    "            x = tmp['year'].values,\n",
    "            y = tmp['value'].values *1000,\n",
    "            mode = 'lines',\n",
    "            name = itm,\n",
    "            line = dict(color=color, width=10)\n",
    "        )\n",
    "        top_traces.append(tr)\n",
    "    \n",
    "    bot_traces = []\n",
    "    for idx, itm in enumerate(bot_n[field].values[::-1]):\n",
    "        mask = bot_over_time[field] == itm\n",
    "        tmp = bot_over_time[mask].copy()\n",
    "        \n",
    "        if field == 'Item':\n",
    "            color = FOOD_COLORS[idx]\n",
    "        else:\n",
    "            color = COUNTRY_COLORS[idx]\n",
    "            \n",
    "        tr = go.Scatter(\n",
    "            x = tmp['year'].values,\n",
    "            y = tmp['value'].values * 1000,\n",
    "            mode = 'lines',\n",
    "            name = itm,\n",
    "            line = dict(color=color, width=10)\n",
    "        )\n",
    "        bot_traces.append(tr)\n",
    "        \n",
    "    return top_traces, bot_traces\n",
    "    \n",
    "n = 6\n",
    "df = get_data()\n",
    "top_food_traces, bot_food_traces = get_topbot_n_by('Item', n)\n",
    "top_cust_traces, bot_cust_traces = get_topbot_n_by('Area', n)"
   ]
  },
  {
   "cell_type": "markdown",
   "metadata": {},
   "source": [
    "## Plotting US Grown Foods over time"
   ]
  },
  {
   "cell_type": "code",
   "execution_count": 15,
   "metadata": {},
   "outputs": [],
   "source": [
    "font_dict = dict(\n",
    "            family='Roboto',\n",
    "            size=20\n",
    "        )\n",
    "\n",
    "layout = go.Layout(\n",
    "    font = font_dict,\n",
    "    hovermode = 'closest',\n",
    "    width=900,\n",
    "    height=600,\n",
    "    xaxis=dict(\n",
    "        title='Year',\n",
    "        titlefont=font_dict,\n",
    "        tickfont=font_dict,        \n",
    "    ),\n",
    "    yaxis=dict(\n",
    "        title='Tonnes',\n",
    "        titlefont=font_dict,\n",
    "        tickfont=font_dict,        \n",
    "    ),\n",
    "    legend=dict(\n",
    "        x=0,\n",
    "        y=1,\n",
    "        traceorder='normal',\n",
    "        font=dict(\n",
    "            family='Roboto',\n",
    "            size=12,\n",
    "            color='#000'\n",
    "        ),\n",
    "        bgcolor='#E2E2E2',\n",
    "        bordercolor='#FFFFFF',\n",
    "        borderwidth=2\n",
    "    )\n",
    ")"
   ]
  },
  {
   "cell_type": "code",
   "execution_count": 16,
   "metadata": {},
   "outputs": [
    {
     "data": {
      "text/html": [
       "<iframe id=\"igraph\" scrolling=\"no\" style=\"border:none;\" seamless=\"seamless\" src=\"https://plot.ly/~tdlee/221.embed\" height=\"600px\" width=\"900px\"></iframe>"
      ],
      "text/plain": [
       "<plotly.tools.PlotlyDisplay object>"
      ]
     },
     "execution_count": 16,
     "metadata": {},
     "output_type": "execute_result"
    }
   ],
   "source": [
    "layout['title'] = 'Top %d US Grown Foods' %n\n",
    "fig = go.Figure(data=top_food_traces, layout=layout)\n",
    "ply.iplot(fig, filename='top_6_food_over_time_scatter')"
   ]
  },
  {
   "cell_type": "code",
   "execution_count": 17,
   "metadata": {},
   "outputs": [
    {
     "data": {
      "text/html": [
       "<iframe id=\"igraph\" scrolling=\"no\" style=\"border:none;\" seamless=\"seamless\" src=\"https://plot.ly/~tdlee/223.embed\" height=\"600px\" width=\"900px\"></iframe>"
      ],
      "text/plain": [
       "<plotly.tools.PlotlyDisplay object>"
      ]
     },
     "execution_count": 17,
     "metadata": {},
     "output_type": "execute_result"
    }
   ],
   "source": [
    "layout['title'] = 'Bottom %d US Grown Foods' %n\n",
    "fig = go.Figure(data=bot_food_traces, layout=layout)\n",
    "ply.iplot(fig, filename='bot_6_food_over_time_scatter')"
   ]
  },
  {
   "cell_type": "code",
   "execution_count": 18,
   "metadata": {},
   "outputs": [
    {
     "data": {
      "text/html": [
       "<iframe id=\"igraph\" scrolling=\"no\" style=\"border:none;\" seamless=\"seamless\" src=\"https://plot.ly/~tdlee/225.embed\" height=\"600px\" width=\"900px\"></iframe>"
      ],
      "text/plain": [
       "<plotly.tools.PlotlyDisplay object>"
      ]
     },
     "execution_count": 18,
     "metadata": {},
     "output_type": "execute_result"
    }
   ],
   "source": [
    "layout['title'] = 'Top %d Eaters of US Grown Foods' %n\n",
    "fig = go.Figure(data=top_cust_traces, layout=layout)\n",
    "ply.iplot(fig, filename='top_6_cust_over_time_scatter')"
   ]
  },
  {
   "cell_type": "code",
   "execution_count": 19,
   "metadata": {},
   "outputs": [],
   "source": [
    "# how to save offline\n",
    "#plotly.offline.plot(fig, filename='top_6_cust_over_time_scatter.html')"
   ]
  },
  {
   "cell_type": "code",
   "execution_count": 20,
   "metadata": {},
   "outputs": [
    {
     "data": {
      "text/html": [
       "<iframe id=\"igraph\" scrolling=\"no\" style=\"border:none;\" seamless=\"seamless\" src=\"https://plot.ly/~tdlee/231.embed\" height=\"600px\" width=\"900px\"></iframe>"
      ],
      "text/plain": [
       "<plotly.tools.PlotlyDisplay object>"
      ]
     },
     "execution_count": 20,
     "metadata": {},
     "output_type": "execute_result"
    }
   ],
   "source": [
    "layout['title'] = 'Bottom %d Eaters of US Grown Foods' %n\n",
    "fig = go.Figure(data=bot_cust_traces, layout=layout)\n",
    "ply.iplot(fig, filename='bot_6_cust_over_time_scatter')"
   ]
  },
  {
   "cell_type": "markdown",
   "metadata": {},
   "source": [
    "## Top Consumers of US foods"
   ]
  },
  {
   "cell_type": "code",
   "execution_count": 21,
   "metadata": {},
   "outputs": [
    {
     "data": {
      "text/html": [
       "<iframe id=\"igraph\" scrolling=\"no\" style=\"border:none;\" seamless=\"seamless\" src=\"https://plot.ly/~tdlee/227.embed\" height=\"800px\" width=\"800px\"></iframe>"
      ],
      "text/plain": [
       "<plotly.tools.PlotlyDisplay object>"
      ]
     },
     "execution_count": 21,
     "metadata": {},
     "output_type": "execute_result"
    }
   ],
   "source": [
    "\n",
    "field = 'Area'\n",
    "mask = df['year'] == 2013\n",
    "summary = df[mask].groupby([field])['value'].sum().reset_index().sort_values('value')\n",
    "summary = summary[summary['value']*1000 > 100e6].sort_values(by='value')\n",
    "top5_area = summary[field].tail(5)\n",
    "tr = go.Bar(\n",
    "    y = summary[field].values,\n",
    "    x = summary['value'].values * 1000,\n",
    "    marker = dict(color=BAR_COLOR),\n",
    "    orientation = 'h'\n",
    ")\n",
    "\n",
    "layout = go.Layout(\n",
    "    title = \"2013's Top Consumers\",\n",
    "    font = font_dict,\n",
    "    width = '800',\n",
    "    height = '800',\n",
    "    margin = go.Margin(\n",
    "        l=300,\n",
    "        r=10,\n",
    "    ),\n",
    "    \n",
    "    xaxis = dict(\n",
    "        type='log',\n",
    "        tickfont = font_dict,\n",
    "        autorange=True\n",
    "    ),\n",
    "    yaxis = dict(\n",
    "        tickfont = font_dict\n",
    "    )\n",
    ")\n",
    "fig = go.Figure(data=[tr], layout=layout)\n",
    "ply.iplot(fig, filename='2013_top_US_Consumers_of_Grown_Foods')"
   ]
  },
  {
   "cell_type": "markdown",
   "metadata": {},
   "source": [
    "## Top US Produced Foods"
   ]
  },
  {
   "cell_type": "code",
   "execution_count": 22,
   "metadata": {},
   "outputs": [
    {
     "data": {
      "text/html": [
       "<iframe id=\"igraph\" scrolling=\"no\" style=\"border:none;\" seamless=\"seamless\" src=\"https://plot.ly/~tdlee/229.embed\" height=\"800px\" width=\"800px\"></iframe>"
      ],
      "text/plain": [
       "<plotly.tools.PlotlyDisplay object>"
      ]
     },
     "execution_count": 22,
     "metadata": {},
     "output_type": "execute_result"
    }
   ],
   "source": [
    "\n",
    "field = 'Item'\n",
    "mask = df['year'] == 2013\n",
    "summary = df[mask].groupby([field])['value'].sum().reset_index().sort_values('value')\n",
    "summary = summary[summary['value']*1000 > 100e6].sort_values(by='value')\n",
    "top5_item = summary[field].tail(5)\n",
    "tr = go.Bar(\n",
    "    y = summary[field].values,\n",
    "    x = summary['value'].values * 1000,\n",
    "    marker = dict(color=BAR_COLOR),\n",
    "    orientation = 'h'\n",
    ")\n",
    "\n",
    "layout = go.Layout(\n",
    "    title = \"2013's Top US Grown Foods\",\n",
    "    font = font_dict,\n",
    "    width = '800',\n",
    "    height = '800',\n",
    "    margin = go.Margin(\n",
    "        l=300,\n",
    "        r=10,\n",
    "    ),\n",
    "    \n",
    "    xaxis = dict(\n",
    "        type='log',\n",
    "        tickfont = font_dict,\n",
    "        autorange=True\n",
    "    ),\n",
    "    yaxis = dict(\n",
    "        tickfont = font_dict\n",
    "    )\n",
    ")\n",
    "fig = go.Figure(data=[tr], layout=layout)\n",
    "ply.iplot(fig, filename='2013_top_US_Grown_Foods')"
   ]
  },
  {
   "cell_type": "code",
   "execution_count": 23,
   "metadata": {},
   "outputs": [
    {
     "data": {
      "text/html": [
       "<div>\n",
       "<style scoped>\n",
       "    .dataframe tbody tr th:only-of-type {\n",
       "        vertical-align: middle;\n",
       "    }\n",
       "\n",
       "    .dataframe tbody tr th {\n",
       "        vertical-align: top;\n",
       "    }\n",
       "\n",
       "    .dataframe thead th {\n",
       "        text-align: right;\n",
       "    }\n",
       "</style>\n",
       "<table border=\"1\" class=\"dataframe\">\n",
       "  <thead>\n",
       "    <tr style=\"text-align: right;\">\n",
       "      <th></th>\n",
       "      <th>Area Abbreviation</th>\n",
       "      <th>Area Code</th>\n",
       "      <th>Area</th>\n",
       "      <th>Item Code</th>\n",
       "      <th>Item</th>\n",
       "      <th>Element Code</th>\n",
       "      <th>Element</th>\n",
       "      <th>Unit</th>\n",
       "      <th>latitude</th>\n",
       "      <th>longitude</th>\n",
       "      <th>year</th>\n",
       "      <th>value</th>\n",
       "    </tr>\n",
       "  </thead>\n",
       "  <tbody>\n",
       "    <tr>\n",
       "      <th>0</th>\n",
       "      <td>AFG</td>\n",
       "      <td>2</td>\n",
       "      <td>Afghanistan</td>\n",
       "      <td>2511</td>\n",
       "      <td>Wheat and products</td>\n",
       "      <td>5142</td>\n",
       "      <td>Food</td>\n",
       "      <td>1000 tonnes</td>\n",
       "      <td>33.94</td>\n",
       "      <td>67.71</td>\n",
       "      <td>1961</td>\n",
       "      <td>1928.0</td>\n",
       "    </tr>\n",
       "    <tr>\n",
       "      <th>1</th>\n",
       "      <td>AFG</td>\n",
       "      <td>2</td>\n",
       "      <td>Afghanistan</td>\n",
       "      <td>2805</td>\n",
       "      <td>Rice (Milled Equivalent)</td>\n",
       "      <td>5142</td>\n",
       "      <td>Food</td>\n",
       "      <td>1000 tonnes</td>\n",
       "      <td>33.94</td>\n",
       "      <td>67.71</td>\n",
       "      <td>1961</td>\n",
       "      <td>183.0</td>\n",
       "    </tr>\n",
       "    <tr>\n",
       "      <th>2</th>\n",
       "      <td>AFG</td>\n",
       "      <td>2</td>\n",
       "      <td>Afghanistan</td>\n",
       "      <td>2513</td>\n",
       "      <td>Barley and products</td>\n",
       "      <td>5521</td>\n",
       "      <td>Feed</td>\n",
       "      <td>1000 tonnes</td>\n",
       "      <td>33.94</td>\n",
       "      <td>67.71</td>\n",
       "      <td>1961</td>\n",
       "      <td>76.0</td>\n",
       "    </tr>\n",
       "    <tr>\n",
       "      <th>3</th>\n",
       "      <td>AFG</td>\n",
       "      <td>2</td>\n",
       "      <td>Afghanistan</td>\n",
       "      <td>2513</td>\n",
       "      <td>Barley and products</td>\n",
       "      <td>5142</td>\n",
       "      <td>Food</td>\n",
       "      <td>1000 tonnes</td>\n",
       "      <td>33.94</td>\n",
       "      <td>67.71</td>\n",
       "      <td>1961</td>\n",
       "      <td>237.0</td>\n",
       "    </tr>\n",
       "    <tr>\n",
       "      <th>4</th>\n",
       "      <td>AFG</td>\n",
       "      <td>2</td>\n",
       "      <td>Afghanistan</td>\n",
       "      <td>2514</td>\n",
       "      <td>Maize and products</td>\n",
       "      <td>5521</td>\n",
       "      <td>Feed</td>\n",
       "      <td>1000 tonnes</td>\n",
       "      <td>33.94</td>\n",
       "      <td>67.71</td>\n",
       "      <td>1961</td>\n",
       "      <td>210.0</td>\n",
       "    </tr>\n",
       "  </tbody>\n",
       "</table>\n",
       "</div>"
      ],
      "text/plain": [
       "  Area Abbreviation  Area Code         Area  Item Code  \\\n",
       "0               AFG          2  Afghanistan       2511   \n",
       "1               AFG          2  Afghanistan       2805   \n",
       "2               AFG          2  Afghanistan       2513   \n",
       "3               AFG          2  Afghanistan       2513   \n",
       "4               AFG          2  Afghanistan       2514   \n",
       "\n",
       "                       Item  Element Code Element         Unit  latitude  \\\n",
       "0        Wheat and products          5142    Food  1000 tonnes     33.94   \n",
       "1  Rice (Milled Equivalent)          5142    Food  1000 tonnes     33.94   \n",
       "2       Barley and products          5521    Feed  1000 tonnes     33.94   \n",
       "3       Barley and products          5142    Food  1000 tonnes     33.94   \n",
       "4        Maize and products          5521    Feed  1000 tonnes     33.94   \n",
       "\n",
       "   longitude  year   value  \n",
       "0      67.71  1961  1928.0  \n",
       "1      67.71  1961   183.0  \n",
       "2      67.71  1961    76.0  \n",
       "3      67.71  1961   237.0  \n",
       "4      67.71  1961   210.0  "
      ]
     },
     "execution_count": 23,
     "metadata": {},
     "output_type": "execute_result"
    }
   ],
   "source": [
    "df.head()"
   ]
  },
  {
   "cell_type": "markdown",
   "metadata": {},
   "source": [
    "## Top Country Consumers vs. Top US Grown foods"
   ]
  },
  {
   "cell_type": "code",
   "execution_count": 24,
   "metadata": {},
   "outputs": [
    {
     "name": "stdout",
     "output_type": "stream",
     "text": [
      "This is the format of your plot grid:\n",
      "[ (1,1) x1,y1 ]    [ (1,2) x2,y2 ]    [ (1,3) x3,y3 ]    [ (1,4) x4,y4 ]    [ (1,5) x5,y5 ]  \n",
      "[ (2,1) x6,y6 ]    [ (2,2) x7,y7 ]    [ (2,3) x8,y8 ]    [ (2,4) x9,y9 ]    [ (2,5) x10,y10 ]\n",
      "[ (3,1) x11,y11 ]  [ (3,2) x12,y12 ]  [ (3,3) x13,y13 ]  [ (3,4) x14,y14 ]  [ (3,5) x15,y15 ]\n",
      "[ (4,1) x16,y16 ]  [ (4,2) x17,y17 ]  [ (4,3) x18,y18 ]  [ (4,4) x19,y19 ]  [ (4,5) x20,y20 ]\n",
      "[ (5,1) x21,y21 ]  [ (5,2) x22,y22 ]  [ (5,3) x23,y23 ]  [ (5,4) x24,y24 ]  [ (5,5) x25,y25 ]\n",
      "\n"
     ]
    },
    {
     "data": {
      "text/html": [
       "<iframe id=\"igraph\" scrolling=\"no\" style=\"border:none;\" seamless=\"seamless\" src=\"https://plot.ly/~tdlee/273.embed\" height=\"1000px\" width=\"1000px\"></iframe>"
      ],
      "text/plain": [
       "<plotly.tools.PlotlyDisplay object>"
      ]
     },
     "execution_count": 24,
     "metadata": {},
     "output_type": "execute_result"
    }
   ],
   "source": [
    "\n",
    "\n",
    "titles = []\n",
    "for i, cust in enumerate(top5_area):\n",
    "    for j, prod in enumerate(top5_item):\n",
    "        titles.append('%s <br> %s' % (cust, prod) )\n",
    "        \n",
    "subplots = tools.make_subplots(rows=5, cols=5, subplot_titles=titles)\n",
    "\n",
    "counter = 1\n",
    "for i, cust in enumerate(top5_area):\n",
    "    for j, prod in enumerate(top5_item):\n",
    "        mask = (df['Item']==prod) & (df['Area'] == cust) & (df['value'] >0)\n",
    "        tmp = df[mask].copy()        \n",
    "        tmp = tmp.groupby('year')['value'].sum().reset_index()\n",
    "        tr = go.Scatter(\n",
    "            x = tmp['year'].values,\n",
    "            y = tmp['value'].values,\n",
    "            mode = 'lines',\n",
    "            name = '%s eats %s' % (cust, prod),\n",
    "            line = dict(width=7, color = FOOD_COLORS[j])\n",
    "        )\n",
    "        \n",
    "        subplots.append_trace(tr, i+1,j+1)\n",
    "        subplots['layout']['yaxis' + str(counter)].update(range=[0,2e5])\n",
    "        counter += 1\n",
    "        \n",
    "subplots['layout'].update(title=\"Top Countries vs. Top Foods\")\n",
    "subplots['layout'].update(font=dict(family='Roboto', size=12))\n",
    "\n",
    "for d in subplots['layout']['annotations']:\n",
    "    d['font']['size']=12\n",
    "\n",
    "subplots['layout'].update(height=1000, width=1000)\n",
    "subplots['layout'].update(showlegend=False)\n",
    "ply.iplot(subplots, filename='plotly_multiples')"
   ]
  },
  {
   "cell_type": "code",
   "execution_count": null,
   "metadata": {},
   "outputs": [],
   "source": []
  }
 ],
 "metadata": {
  "kernelspec": {
   "display_name": "Python 3",
   "language": "python",
   "name": "python3"
  },
  "language_info": {
   "codemirror_mode": {
    "name": "ipython",
    "version": 3
   },
   "file_extension": ".py",
   "mimetype": "text/x-python",
   "name": "python",
   "nbconvert_exporter": "python",
   "pygments_lexer": "ipython3",
   "version": "3.6.5"
  }
 },
 "nbformat": 4,
 "nbformat_minor": 2
}
