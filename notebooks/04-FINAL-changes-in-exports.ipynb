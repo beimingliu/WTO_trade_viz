{
 "cells": [
  {
   "cell_type": "markdown",
   "metadata": {},
   "source": [
    "## Volatility Plots"
   ]
  },
  {
   "cell_type": "code",
   "execution_count": 1,
   "metadata": {},
   "outputs": [],
   "source": [
    "import pandas as pd\n",
    "import numpy as np\n",
    "import requests\n",
    "import ujson\n",
    "import os\n",
    "\n",
    "import plotly\n",
    "from plotly import tools\n",
    "\n",
    "import plotly\n",
    "with open('/Users/timlee/Dropbox/keys/plotly_apikey.txt','r') as f:\n",
    "    api_key = f.read()\n",
    "plotly.tools.set_credentials_file(username='tdlee', api_key=api_key)\n",
    "\n",
    "import plotly.plotly as ply\n",
    "import plotly.graph_objs as go\n",
    "from plotly.grid_objs import Grid, Column"
   ]
  },
  {
   "cell_type": "markdown",
   "metadata": {},
   "source": [
    "## Common Functions"
   ]
  },
  {
   "cell_type": "code",
   "execution_count": 2,
   "metadata": {},
   "outputs": [],
   "source": [
    "country_codes = ['chn', 'idn', 'ind', 'jpn', 'sau', 'tur', 'twn',\n",
    "                 'bel', 'che', 'deu', 'esp', 'fra', 'gbr', 'ita',\n",
    "                 'nld', 'pol', 'rus', 'swe', 'can', 'mex', 'usa',\n",
    "                 'aus', 'arg', 'bra']\n",
    "\n",
    "\n",
    "def get_countries_lkup():\n",
    "    countries_url = 'https://atlas.media.mit.edu/attr/country/'\n",
    "    resp = requests.get(countries_url)\n",
    "    resp_json = ujson.loads(resp.content)['data']\n",
    "    resp_df = pd.DataFrame(resp_json)\n",
    "    country_id_lkup = {idx: name for idx, name in resp_df[['display_id','name']].values}\n",
    "    return country_id_lkup\n",
    "\n",
    "\n",
    "def get_data(countrycode):\n",
    "    imports_url = './OEC_%s_imports.feather' % countrycode\n",
    "    exports_url = './OEC_%s_exports.feather' % countrycode\n",
    "    \n",
    "    if not os.path.isfile(imports_url):\n",
    "        return None, None\n",
    "    \n",
    "    if not os.path.isfile(exports_url):\n",
    "        return None, None\n",
    "        \n",
    "    \n",
    "    df_exports = pd.read_feather(exports_url)\n",
    "    df_exports = df_exports[df_exports['export_val'].isna()==False].copy()\n",
    "    df_exports = df_exports.sort_values(by='export_val')\n",
    "    \n",
    "    df_imports = pd.read_feather(imports_url)\n",
    "    df_imports = df_imports[df_imports['import_val'].isna() == False].copy()\n",
    "    df_imports = df_imports.sort_values(by = 'import_val')\n",
    "    \n",
    "    return df_imports, df_exports\n",
    "\n",
    "\n",
    "\n",
    "def all_ports(country_codes):\n",
    "    import_collector = []\n",
    "    export_collector = []\n",
    "    for countrycode in country_codes:\n",
    "        df_imports, df_exports = get_data(countrycode)\n",
    "        if df_imports is not None:\n",
    "            df_imp_tmp = df_imports[['year','product_name','import_val']].copy()\n",
    "            df_imp_tmp['countrycode'] = countrycode\n",
    "            df_exp_tmp = df_exports[['year','product_name','export_val']].copy()\n",
    "            df_exp_tmp['countrycode'] = countrycode\n",
    "            import_collector.append(df_imp_tmp)\n",
    "            export_collector.append(df_exp_tmp)\n",
    "        \n",
    "    return pd.concat(import_collector), pd.concat(export_collector)\n",
    "    "
   ]
  },
  {
   "cell_type": "markdown",
   "metadata": {},
   "source": [
    "## Top Importer / Exporter Bar Plots"
   ]
  },
  {
   "cell_type": "code",
   "execution_count": null,
   "metadata": {},
   "outputs": [],
   "source": [
    "country_id_lkup = get_countries_lkup()\n",
    "import_collector, export_collector = all_ports(country_codes)"
   ]
  },
  {
   "cell_type": "code",
   "execution_count": 164,
   "metadata": {},
   "outputs": [
    {
     "data": {
      "text/html": [
       "<iframe id=\"igraph\" scrolling=\"no\" style=\"border:none;\" seamless=\"seamless\" src=\"https://plot.ly/~tdlee/414.embed\" height=\"600px\" width=\"600px\"></iframe>"
      ],
      "text/plain": [
       "<plotly.tools.PlotlyDisplay object>"
      ]
     },
     "execution_count": 164,
     "metadata": {},
     "output_type": "execute_result"
    }
   ],
   "source": [
    "mask = import_collector['year'] == 2014\n",
    "imp_summary = import_collector[mask].groupby('countrycode')['import_val'].sum().reset_index().sort_values('import_val')\n",
    "tr = go.Bar(\n",
    "    x = imp_summary['import_val'],\n",
    "    y = imp_summary['countrycode'],\n",
    "    orientation='h'\n",
    ")\n",
    "font_dict = dict(\n",
    "                family='Roboto',\n",
    "                size=14\n",
    "            )\n",
    "layout = go.Layout(\n",
    "    font=font_dict,\n",
    "    width = 600,\n",
    "    height = 600,\n",
    "    title = 'Top Importers by Country'\n",
    ")\n",
    "fig = go.Figure(data=[tr], layout=layout)\n",
    "ply.iplot(fig, filename='total_importers_2014')"
   ]
  },
  {
   "cell_type": "code",
   "execution_count": 165,
   "metadata": {},
   "outputs": [
    {
     "data": {
      "text/html": [
       "<iframe id=\"igraph\" scrolling=\"no\" style=\"border:none;\" seamless=\"seamless\" src=\"https://plot.ly/~tdlee/416.embed\" height=\"600px\" width=\"600px\"></iframe>"
      ],
      "text/plain": [
       "<plotly.tools.PlotlyDisplay object>"
      ]
     },
     "execution_count": 165,
     "metadata": {},
     "output_type": "execute_result"
    }
   ],
   "source": [
    "mask = export_collector['year'] == 2014\n",
    "exp_summary = export_collector[mask].groupby('countrycode')['export_val'].sum().reset_index().sort_values('export_val')\n",
    "tr = go.Bar(\n",
    "    x = exp_summary['export_val'],\n",
    "    y = exp_summary['countrycode'],\n",
    "    orientation='h'\n",
    ")\n",
    "font_dict = dict(\n",
    "                family='Roboto',\n",
    "                size=14\n",
    "            )\n",
    "layout = go.Layout(\n",
    "    font=font_dict,\n",
    "    width = 600,\n",
    "    height = 600,\n",
    "    title = 'Top Exporters by Country'\n",
    ")\n",
    "fig = go.Figure(data=[tr], layout=layout)\n",
    "ply.iplot(fig, filename='total_exporters_2014')"
   ]
  },
  {
   "cell_type": "markdown",
   "metadata": {},
   "source": [
    "## Create Changes in Export Values (delta)"
   ]
  },
  {
   "cell_type": "code",
   "execution_count": 102,
   "metadata": {},
   "outputs": [],
   "source": [
    "country_id_lkup = get_countries_lkup()\n",
    "import_collector, export_collector = all_ports(country_codes)\n",
    "\n",
    "imask = import_collector['product_name'].isin(['Crude Petroleum','Petroleum oils, oils from bituminous minerals, crude']) == False\n",
    "emask = export_collector['product_name'].isin(['Crude Petroleum','Petroleum oils, oils from bituminous minerals, crude']) == False\n",
    "\n",
    "import_collector = import_collector[imask].copy()\n",
    "export_collector = export_collector[emask].copy()"
   ]
  },
  {
   "cell_type": "code",
   "execution_count": 123,
   "metadata": {},
   "outputs": [],
   "source": [
    "import_collector.sort_values(by=['countrycode','product_name','year'], inplace=True)\n",
    "export_collector.sort_values(by=['countrycode','product_name','year'], inplace=True)\n",
    "import_collector['delta'] = import_collector['import_val'].diff()\n",
    "import_collector = import_collector[import_collector['year']!=1995].copy()\n",
    "export_collector['delta'] = export_collector['export_val'].diff()\n",
    "export_collector = export_collector[export_collector['year']!=1995].copy()"
   ]
  },
  {
   "cell_type": "code",
   "execution_count": 125,
   "metadata": {},
   "outputs": [],
   "source": [
    "top_import_changes_neg = import_collector.sort_values('delta').head(10)\n",
    "top_import_changes_pos = import_collector.sort_values('delta', ascending=False).head(10)\n",
    "\n",
    "top_export_changes_neg = export_collector.sort_values('delta').head(10)\n",
    "top_export_changes_pos = export_collector.sort_values('delta', ascending=False).head(10)"
   ]
  },
  {
   "cell_type": "code",
   "execution_count": 127,
   "metadata": {},
   "outputs": [],
   "source": [
    "def get_combos(df):\n",
    "    combos = []\n",
    "    for row in df.values:\n",
    "        combos.append((row[1], row[3]))\n",
    "    return list(set(combos))\n",
    "\n",
    "export_neg_combo = get_combos(top_export_changes_neg)\n",
    "export_pos_combo = get_combos(top_export_changes_pos)\n",
    "import_neg_combo = get_combos(top_import_changes_neg)\n",
    "import_pos_combo = get_combos(top_export_changes_pos)"
   ]
  },
  {
   "cell_type": "markdown",
   "metadata": {},
   "source": [
    "## Plotting exports and imports that have drastically changed "
   ]
  },
  {
   "cell_type": "code",
   "execution_count": 140,
   "metadata": {},
   "outputs": [],
   "source": [
    "def get_traces(df, filter_combos, val_field, title):\n",
    "    traces = []\n",
    "    for product, countrycode in filter_combos:\n",
    "        mask = (df['product_name'] == product) & (df['countrycode'] == countrycode)\n",
    "        tmp = df[mask].copy()\n",
    "        tmp.sort_values('year')\n",
    "        tr = go.Scatter(\n",
    "            x = tmp['year'],\n",
    "            y = tmp[val_field],\n",
    "            mode = 'lines',\n",
    "            line = dict(width=5),\n",
    "            name = country_id_lkup[countrycode] + ' ' + product\n",
    "        )\n",
    "        traces.append(tr)\n",
    "\n",
    "    font_dict = dict(\n",
    "                family='Roboto',\n",
    "                size=20\n",
    "            )\n",
    "\n",
    "    layout = go.Layout(\n",
    "        title = title,\n",
    "        hovermode='closest',\n",
    "        width=1000,\n",
    "        height=600,\n",
    "        xaxis=dict(\n",
    "            title='Year',\n",
    "            titlefont=font_dict,\n",
    "            tickfont=font_dict,        \n",
    "        ),\n",
    "        yaxis=dict(\n",
    "            title=val_field,\n",
    "            titlefont=font_dict,\n",
    "            tickfont=font_dict,\n",
    "        ),\n",
    "    )\n",
    "\n",
    "    fig = dict(data=traces, layout=layout)\n",
    "    return fig\n",
    "\n",
    "export_neg_fig = get_traces(export_collector, export_neg_combo, 'export_val', 'Largest Drops in Exports')\n",
    "export_pos_fig = get_traces(export_collector, export_pos_combo, 'export_val', 'Largest Jumps in Exports')\n",
    "import_neg_fig = get_traces(import_collector, import_neg_combo, 'import_val', 'Largest Drops in Imports')\n",
    "import_pos_fig = get_traces(import_collector, import_pos_combo, 'import_val', 'Largest Jumps in Imports')"
   ]
  },
  {
   "cell_type": "code",
   "execution_count": 172,
   "metadata": {},
   "outputs": [
    {
     "data": {
      "text/html": [
       "<iframe id=\"igraph\" scrolling=\"no\" style=\"border:none;\" seamless=\"seamless\" src=\"https://plot.ly/~tdlee/420.embed\" height=\"600px\" width=\"1000px\"></iframe>"
      ],
      "text/plain": [
       "<plotly.tools.PlotlyDisplay object>"
      ]
     },
     "execution_count": 172,
     "metadata": {},
     "output_type": "execute_result"
    }
   ],
   "source": [
    "ply.iplot(export_neg_fig, filename='largest_drops_exports')"
   ]
  },
  {
   "cell_type": "code",
   "execution_count": 173,
   "metadata": {},
   "outputs": [
    {
     "data": {
      "text/html": [
       "<iframe id=\"igraph\" scrolling=\"no\" style=\"border:none;\" seamless=\"seamless\" src=\"https://plot.ly/~tdlee/422.embed\" height=\"600px\" width=\"1000px\"></iframe>"
      ],
      "text/plain": [
       "<plotly.tools.PlotlyDisplay object>"
      ]
     },
     "execution_count": 173,
     "metadata": {},
     "output_type": "execute_result"
    }
   ],
   "source": [
    "ply.iplot(export_pos_fig, filename='Largest_jumps_in_exports')"
   ]
  },
  {
   "cell_type": "code",
   "execution_count": 174,
   "metadata": {},
   "outputs": [
    {
     "data": {
      "text/html": [
       "<iframe id=\"igraph\" scrolling=\"no\" style=\"border:none;\" seamless=\"seamless\" src=\"https://plot.ly/~tdlee/424.embed\" height=\"600px\" width=\"1000px\"></iframe>"
      ],
      "text/plain": [
       "<plotly.tools.PlotlyDisplay object>"
      ]
     },
     "execution_count": 174,
     "metadata": {},
     "output_type": "execute_result"
    }
   ],
   "source": [
    "ply.iplot(import_pos_fig, filename='largest_jumps_imports')"
   ]
  },
  {
   "cell_type": "code",
   "execution_count": 175,
   "metadata": {},
   "outputs": [
    {
     "data": {
      "text/html": [
       "<iframe id=\"igraph\" scrolling=\"no\" style=\"border:none;\" seamless=\"seamless\" src=\"https://plot.ly/~tdlee/426.embed\" height=\"600px\" width=\"1000px\"></iframe>"
      ],
      "text/plain": [
       "<plotly.tools.PlotlyDisplay object>"
      ]
     },
     "execution_count": 175,
     "metadata": {},
     "output_type": "execute_result"
    }
   ],
   "source": [
    "ply.iplot(import_neg_fig, filename='largest_drops_imports')"
   ]
  },
  {
   "cell_type": "code",
   "execution_count": 80,
   "metadata": {},
   "outputs": [
    {
     "data": {
      "text/plain": [
       "[{'type': 'scatter', 'x': 4799      1995.0\n",
       "  10863     1996.0\n",
       "  16925     1997.0\n",
       "  22972     1998.0\n",
       "  29017     1999.0\n",
       "  35126     2000.0\n",
       "  41316     2001.0\n",
       "  47482     2002.0\n",
       "  53646     2003.0\n",
       "  59803     2004.0\n",
       "  65968     2005.0\n",
       "  72136     2006.0\n",
       "  78292     2007.0\n",
       "  84420     2008.0\n",
       "  90521     2009.0\n",
       "  96576     2010.0\n",
       "  102610    2011.0\n",
       "  108657    2012.0\n",
       "  114690    2013.0\n",
       "  120704    2014.0\n",
       "  Name: year, dtype: float64, 'y': 4799      4.098790e+07\n",
       "  10863     5.202274e+07\n",
       "  16925     4.236958e+07\n",
       "  22972     5.452878e+07\n",
       "  29017     5.845065e+07\n",
       "  35126     2.337116e+07\n",
       "  41316     3.202624e+07\n",
       "  47482     6.191575e+07\n",
       "  53646     5.158936e+07\n",
       "  59803     1.078894e+08\n",
       "  65968     4.494443e+07\n",
       "  72136     2.840680e+07\n",
       "  78292     4.049030e+07\n",
       "  84420     6.757842e+07\n",
       "  90521     6.039019e+07\n",
       "  96576     5.259883e+07\n",
       "  102610    6.971555e+07\n",
       "  108657    4.836816e+07\n",
       "  114690    5.045121e+07\n",
       "  120704    3.473077e+07\n",
       "  Name: import_val, dtype: float64, 'mode': 'lines', 'name': 'China Transporter or bridge cranes'},\n",
       " {'type': 'scatter', 'x': 2618      1995.0\n",
       "  8681      1996.0\n",
       "  14755     1997.0\n",
       "  20803     1998.0\n",
       "  26858     1999.0\n",
       "  32911     2000.0\n",
       "  39110     2001.0\n",
       "  45279     2002.0\n",
       "  51448     2003.0\n",
       "  57600     2004.0\n",
       "  63761     2005.0\n",
       "  69928     2006.0\n",
       "  76087     2007.0\n",
       "  82228     2008.0\n",
       "  88337     2009.0\n",
       "  94403     2010.0\n",
       "  100444    2011.0\n",
       "  106482    2012.0\n",
       "  112519    2013.0\n",
       "  118542    2014.0\n",
       "  Name: year, dtype: float64, 'y': 2618      3.871928e+07\n",
       "  8681      8.381843e+07\n",
       "  14755     1.024693e+08\n",
       "  20803     1.146105e+08\n",
       "  26858     1.250121e+08\n",
       "  32911     1.945927e+08\n",
       "  39110     1.618853e+08\n",
       "  45279     1.386555e+08\n",
       "  51448     1.373635e+08\n",
       "  57600     1.253867e+08\n",
       "  63761     1.307944e+08\n",
       "  69928     1.486891e+08\n",
       "  76087     1.370338e+08\n",
       "  82228     1.380192e+08\n",
       "  88337     1.687901e+08\n",
       "  94403     2.055848e+08\n",
       "  100444    2.233264e+08\n",
       "  106482    2.332952e+08\n",
       "  112519    2.945502e+08\n",
       "  118542    2.967303e+08\n",
       "  Name: import_val, dtype: float64, 'mode': 'lines', 'name': 'China Brochures'},\n",
       " {'type': 'scatter', 'x': 1017      1995.0\n",
       "  18541     1998.0\n",
       "  24482     1999.0\n",
       "  36440     2001.0\n",
       "  42487     2002.0\n",
       "  54540     2004.0\n",
       "  60574     2005.0\n",
       "  66600     2006.0\n",
       "  72639     2007.0\n",
       "  78575     2008.0\n",
       "  84351     2009.0\n",
       "  90022     2010.0\n",
       "  95684     2011.0\n",
       "  106955    2013.0\n",
       "  112595    2014.0\n",
       "  Name: year, dtype: float64, 'y': 1017          2582.44\n",
       "  18541      2297520.00\n",
       "  24482        57895.00\n",
       "  36440     16065249.00\n",
       "  42487        21294.00\n",
       "  54540         2380.00\n",
       "  60574       408129.00\n",
       "  66600       118843.00\n",
       "  72639      1531531.00\n",
       "  78575      3645347.00\n",
       "  84351         3959.00\n",
       "  90022       100625.00\n",
       "  95684       438868.00\n",
       "  106955        9415.00\n",
       "  112595        4237.00\n",
       "  Name: import_val, dtype: float64, 'mode': 'lines', 'name': 'Saudi Arabia Crude Petroleum'},\n",
       " {'type': 'scatter', 'x': 2601      1995.0\n",
       "  8696      1996.0\n",
       "  14791     1997.0\n",
       "  20873     1998.0\n",
       "  26951     1999.0\n",
       "  33037     2000.0\n",
       "  39264     2001.0\n",
       "  45459     2002.0\n",
       "  51645     2003.0\n",
       "  57813     2004.0\n",
       "  63987     2005.0\n",
       "  70148     2006.0\n",
       "  76310     2007.0\n",
       "  82423     2008.0\n",
       "  88500     2009.0\n",
       "  94527     2010.0\n",
       "  100496    2011.0\n",
       "  106448    2012.0\n",
       "  112386    2013.0\n",
       "  118314    2014.0\n",
       "  Name: year, dtype: float64, 'y': 2601      2.203777e+08\n",
       "  8696      2.332745e+08\n",
       "  14791     2.126851e+08\n",
       "  20873     2.086090e+08\n",
       "  26951     2.160602e+08\n",
       "  33037     1.664870e+08\n",
       "  39264     1.759500e+08\n",
       "  45459     1.987865e+08\n",
       "  51645     2.501761e+08\n",
       "  57813     2.765546e+08\n",
       "  63987     3.004396e+08\n",
       "  70148     3.340347e+08\n",
       "  76310     3.935393e+08\n",
       "  82423     4.514864e+08\n",
       "  88500     4.191807e+08\n",
       "  94527     4.493492e+08\n",
       "  100496    5.113601e+08\n",
       "  106448    5.148624e+08\n",
       "  112386    5.903546e+08\n",
       "  118314    6.280913e+08\n",
       "  Name: import_val, dtype: float64, 'mode': 'lines', 'name': 'Germany Cartons, boxes & cases, folding, non-corrugated paper'},\n",
       " {'type': 'scatter', 'x': 5521      1995.0\n",
       "  11459     1996.0\n",
       "  23050     1998.0\n",
       "  28950     1999.0\n",
       "  34909     2000.0\n",
       "  40978     2001.0\n",
       "  46980     2002.0\n",
       "  53015     2003.0\n",
       "  59051     2004.0\n",
       "  65075     2005.0\n",
       "  71114     2006.0\n",
       "  77114     2007.0\n",
       "  82925     2008.0\n",
       "  88594     2009.0\n",
       "  94258     2010.0\n",
       "  99908     2011.0\n",
       "  111175    2013.0\n",
       "  116788    2014.0\n",
       "  Name: year, dtype: float64, 'y': 5521        972454.25\n",
       "  11459       283360.23\n",
       "  23050      4125591.36\n",
       "  28950       696543.35\n",
       "  34909       901252.87\n",
       "  40978       183527.94\n",
       "  46980       197214.00\n",
       "  53015        10829.00\n",
       "  59051      5172085.00\n",
       "  65075      7587074.47\n",
       "  71114      3892491.00\n",
       "  77114     24052879.89\n",
       "  82925      1848031.00\n",
       "  88594       110909.00\n",
       "  94258      2805386.17\n",
       "  99908      4458044.00\n",
       "  111175      226586.00\n",
       "  116788      521368.00\n",
       "  Name: import_val, dtype: float64, 'mode': 'lines', 'name': 'Saudi Arabia Cruise ships, excursion boats, ferry boats'},\n",
       " {'type': 'scatter', 'x': 178       1995.0\n",
       "  6249      1996.0\n",
       "  12322     1997.0\n",
       "  18374     1998.0\n",
       "  24428     1999.0\n",
       "  30469     2000.0\n",
       "  36669     2001.0\n",
       "  42856     2002.0\n",
       "  49025     2003.0\n",
       "  55189     2004.0\n",
       "  61345     2005.0\n",
       "  67511     2006.0\n",
       "  73680     2007.0\n",
       "  79834     2008.0\n",
       "  85957     2009.0\n",
       "  92051     2010.0\n",
       "  98105     2011.0\n",
       "  104135    2012.0\n",
       "  110182    2013.0\n",
       "  116207    2014.0\n",
       "  Name: year, dtype: float64, 'y': 178       2.609066e+07\n",
       "  6249      1.769667e+07\n",
       "  12322     6.226129e+07\n",
       "  18374     7.730877e+07\n",
       "  24428     8.480441e+07\n",
       "  30469     9.684622e+07\n",
       "  36669     1.103835e+08\n",
       "  42856     2.464623e+08\n",
       "  49025     2.786579e+08\n",
       "  55189     3.250011e+08\n",
       "  61345     2.682147e+08\n",
       "  67511     3.140640e+08\n",
       "  73680     3.555162e+08\n",
       "  79834     4.747921e+08\n",
       "  85957     6.154804e+08\n",
       "  92051     1.405382e+09\n",
       "  98105     1.679259e+09\n",
       "  104135    1.975029e+09\n",
       "  110182    4.120686e+09\n",
       "  116207    4.014709e+09\n",
       "  Name: import_val, dtype: float64, 'mode': 'lines', 'name': 'China Concentrated Milk'},\n",
       " {'type': 'scatter', 'x': 1995      1995.0\n",
       "  7938      1996.0\n",
       "  13724     1997.0\n",
       "  19521     1998.0\n",
       "  25454     1999.0\n",
       "  31376     2000.0\n",
       "  37424     2001.0\n",
       "  43460     2002.0\n",
       "  49481     2003.0\n",
       "  55521     2004.0\n",
       "  61552     2005.0\n",
       "  67587     2006.0\n",
       "  73608     2007.0\n",
       "  79505     2008.0\n",
       "  85264     2009.0\n",
       "  90939     2010.0\n",
       "  96605     2011.0\n",
       "  102248    2012.0\n",
       "  107865    2013.0\n",
       "  113506    2014.0\n",
       "  Name: year, dtype: float64, 'y': 1995       7478421.70\n",
       "  7938       6780100.82\n",
       "  13724      3556592.00\n",
       "  19521      2918410.23\n",
       "  25454      4082386.78\n",
       "  31376     10194752.05\n",
       "  37424      4462698.78\n",
       "  43460      5506786.54\n",
       "  49481      7415639.32\n",
       "  55521     18470657.08\n",
       "  61552     23298059.15\n",
       "  67587     17221316.79\n",
       "  73608     18130304.17\n",
       "  79505     25218715.47\n",
       "  85264     15874216.00\n",
       "  90939     27427545.78\n",
       "  96605     37857252.49\n",
       "  102248    35705895.95\n",
       "  107865    33800724.65\n",
       "  113506    30700776.00\n",
       "  Name: import_val, dtype: float64, 'mode': 'lines', 'name': 'Saudi Arabia Petroleum resins, coumarone, indene, polyterpenes'},\n",
       " {'type': 'scatter', 'x': 1018      1995.0\n",
       "  18542     1998.0\n",
       "  24483     1999.0\n",
       "  36441     2001.0\n",
       "  42488     2002.0\n",
       "  54541     2004.0\n",
       "  60575     2005.0\n",
       "  66601     2006.0\n",
       "  72640     2007.0\n",
       "  78576     2008.0\n",
       "  84352     2009.0\n",
       "  90023     2010.0\n",
       "  95685     2011.0\n",
       "  106956    2013.0\n",
       "  112596    2014.0\n",
       "  Name: year, dtype: float64, 'y': 1018          2582.44\n",
       "  18542      2297520.00\n",
       "  24483        57895.00\n",
       "  36441     16065249.00\n",
       "  42488        21294.00\n",
       "  54541         2380.00\n",
       "  60575       408129.00\n",
       "  66601       118843.00\n",
       "  72640      1531531.00\n",
       "  78576      3645347.00\n",
       "  84352         3959.00\n",
       "  90023       100625.00\n",
       "  95685       438868.00\n",
       "  106956        9415.00\n",
       "  112596        4237.00\n",
       "  Name: import_val, dtype: float64, 'mode': 'lines', 'name': 'Saudi Arabia Petroleum oils, oils from bituminous minerals, crude'}]"
      ]
     },
     "execution_count": 80,
     "metadata": {},
     "output_type": "execute_result"
    }
   ],
   "source": [
    "traces"
   ]
  }
 ],
 "metadata": {
  "kernelspec": {
   "display_name": "Python 3",
   "language": "python",
   "name": "python3"
  },
  "language_info": {
   "codemirror_mode": {
    "name": "ipython",
    "version": 3
   },
   "file_extension": ".py",
   "mimetype": "text/x-python",
   "name": "python",
   "nbconvert_exporter": "python",
   "pygments_lexer": "ipython3",
   "version": "3.6.5"
  }
 },
 "nbformat": 4,
 "nbformat_minor": 2
}
