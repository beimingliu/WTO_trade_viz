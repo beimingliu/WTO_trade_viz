{
 "cells": [
  {
   "cell_type": "code",
   "execution_count": 87,
   "metadata": {},
   "outputs": [],
   "source": [
    "import pandas as pd\n",
    "import numpy as np\n",
    "import requests\n",
    "import ujson\n",
    "import os\n",
    "\n",
    "import plotly\n",
    "from plotly import tools\n",
    "\n",
    "import plotly\n",
    "with open('/Users/timlee/Dropbox/keys/plotly_apikey.txt','r') as f:\n",
    "    api_key = f.read()\n",
    "plotly.tools.set_credentials_file(username='tdlee', api_key=api_key)\n",
    "\n",
    "import plotly.plotly as ply\n",
    "import plotly.graph_objs as go\n",
    "from plotly.grid_objs import Grid, Column"
   ]
  },
  {
   "cell_type": "code",
   "execution_count": 88,
   "metadata": {},
   "outputs": [],
   "source": [
    "country_codes = ['chn', 'idn', 'ind', 'jpn', 'sau', 'tur', 'twn',\n",
    "                 'bel', 'che', 'deu', 'esp', 'fra', 'gbr', 'ita',\n",
    "                 'nld', 'pol', 'rus', 'swe', 'can', 'mex', 'usa',\n",
    "                 'aus', 'arg', 'bra']\n",
    "\n",
    "\n",
    "def get_countries_lkup():\n",
    "    countries_url = 'https://atlas.media.mit.edu/attr/country/'\n",
    "    resp = requests.get(countries_url)\n",
    "    resp_json = ujson.loads(resp.content)['data']\n",
    "    resp_df = pd.DataFrame(resp_json)\n",
    "    country_id_lkup = {idx: name for idx, name in resp_df[['display_id','name']].values}\n",
    "    return country_id_lkup\n",
    "\n",
    "\n",
    "def get_data(countrycode):\n",
    "    imports_url = './OEC_%s_imports.feather' % countrycode\n",
    "    exports_url = './OEC_%s_exports.feather' % countrycode\n",
    "    \n",
    "    if not os.path.isfile(imports_url):\n",
    "        return None, None\n",
    "    \n",
    "    if not os.path.isfile(exports_url):\n",
    "        return None, None\n",
    "        \n",
    "    \n",
    "    df_exports = pd.read_feather(exports_url)\n",
    "    df_exports = df_exports[df_exports['export_val'].isna()==False].copy()\n",
    "    df_exports = df_exports.sort_values(by='export_val')\n",
    "    \n",
    "    df_imports = pd.read_feather(imports_url)\n",
    "    df_imports = df_imports[df_imports['import_val'].isna() == False].copy()\n",
    "    df_imports = df_imports.sort_values(by = 'import_val')\n",
    "    \n",
    "    return df_imports, df_exports\n",
    "\n",
    "\n",
    "def topbot_impexp(df_imports, df_exports, n=7):\n",
    "    mask = df_imports['year'] == 2014\n",
    "    tmp_imp = df_imports.loc[mask].sort_values(by='import_val')\n",
    "    mask = df_exports['year'] == 2014\n",
    "    tmp_exp = df_exports.loc[mask].sort_values(by='export_val')\n",
    "    \n",
    "    top_imp_prod = tmp_imp.tail(n)['product_name'].values\n",
    "    top_exp_prod = tmp_exp.tail(n)['product_name'].values\n",
    "    \n",
    "    imp_top_traces = []\n",
    "    for prod in top_imp_prod[::-1]:\n",
    "        mask = df_imports['product_name'] == prod\n",
    "        tmp = df_imports.loc[mask,['year','import_val']].copy()\n",
    "        tmp = tmp.groupby('year')['import_val'].sum().reset_index()\n",
    "        tr = go.Scatter(\n",
    "            x = tmp['year'].values,\n",
    "            y = tmp['import_val'].values,\n",
    "            mode = 'lines',\n",
    "            line = dict(width=6),\n",
    "            name = prod\n",
    "        )\n",
    "        imp_top_traces.append(tr)\n",
    "    \n",
    "    exp_top_traces = []\n",
    "    for prod in top_exp_prod[::-1]:\n",
    "        mask = df_exports['product_name'] == prod\n",
    "        tmp = df_exports.loc[mask,['year','import_val']].copy()\n",
    "        tmp = tmp.groupby('year')['import_val'].sum().reset_index()\n",
    "        tr = go.Scatter(\n",
    "            x = tmp['year'].values,\n",
    "            y = tmp['import_val'].values,\n",
    "            mode = 'lines',\n",
    "            line = dict(width=6),\n",
    "            name = prod\n",
    "        )\n",
    "        exp_top_traces.append(tr)\n",
    "    \n",
    "    return imp_top_traces, exp_top_traces\n",
    "\n",
    "\n",
    "def gen_all_traces(country_codes):\n",
    "    imp_trs = []\n",
    "    exp_trs = []\n",
    "    actual_ccs = []\n",
    "    \n",
    "    for countrycode in country_codes:\n",
    "        df_imports, df_exports = get_data(countrycode)\n",
    "        if df_imports is not None:\n",
    "            actual_ccs.append(countrycode)\n",
    "            imp_top_traces, exp_top_traces = topbot_impexp(df_imports, df_exports)\n",
    "            imp_trs.extend(imp_top_traces)\n",
    "            exp_trs.extend(exp_top_traces)\n",
    "    \n",
    "    return imp_trs, exp_trs, actual_ccs\n",
    "\n",
    "\n",
    "def get_updatemenus(actual_ccs, country_id_lkup):\n",
    "    filters = {}\n",
    "    buttons = []\n",
    "\n",
    "    for idx, countrycode in enumerate(actual_ccs):\n",
    "        template = np.repeat(False, 154)\n",
    "        curr_idx = idx*7\n",
    "        template[curr_idx:curr_idx+7] = True\n",
    "        filters[countrycode] = template\n",
    "\n",
    "        buttons.append(dict(label=country_id_lkup[countrycode],\n",
    "                            method='update',\n",
    "                            args=[{\n",
    "                                'visible': template,\n",
    "                                'title': countrycode\n",
    "                            }]\n",
    "                           ))\n",
    "    updatemenus = list([\n",
    "        dict(\n",
    "             direction='down',\n",
    "             active=2,\n",
    "             buttons=buttons,\n",
    "             x = 0,\n",
    "             xanchor = 'left',\n",
    "             y = 1.1,\n",
    "             yanchor = 'top',\n",
    "             font={'size':12},\n",
    "             showactive = True,\n",
    "            )\n",
    "    ])\n",
    "    return updatemenus\n",
    "\n",
    "\n",
    "imp_trs, exp_trs, actual_ccs = gen_all_traces(country_codes)\n",
    "country_id_lkup = get_countries_lkup()\n",
    "updatemenus = get_updatemenus(actual_ccs, country_id_lkup)"
   ]
  },
  {
   "cell_type": "code",
   "execution_count": 91,
   "metadata": {},
   "outputs": [
    {
     "data": {
      "text/html": [
       "<iframe id=\"igraph\" scrolling=\"no\" style=\"border:none;\" seamless=\"seamless\" src=\"https://plot.ly/~tdlee/359.embed\" height=\"600px\" width=\"900px\"></iframe>"
      ],
      "text/plain": [
       "<plotly.tools.PlotlyDisplay object>"
      ]
     },
     "execution_count": 91,
     "metadata": {},
     "output_type": "execute_result"
    }
   ],
   "source": [
    "font_dict = dict(\n",
    "            family='Roboto',\n",
    "            size=20\n",
    "        )\n",
    "\n",
    "layout = go.Layout(\n",
    "    font = font_dict,\n",
    "    hovermode = 'closest',\n",
    "    width=900,\n",
    "    height=600,\n",
    "    xaxis=dict(\n",
    "        title='Year',\n",
    "        titlefont=font_dict,\n",
    "        tickfont=font_dict,        \n",
    "    ),\n",
    "    yaxis=dict(\n",
    "        title='Tonnes',\n",
    "        titlefont=font_dict,\n",
    "        tickfont=font_dict,        \n",
    "    ),\n",
    "    legend=dict(\n",
    "        x=0,\n",
    "        y=1,\n",
    "        traceorder='normal',\n",
    "        font=dict(\n",
    "            family='Roboto',\n",
    "            size=12,\n",
    "            color='#000'\n",
    "        ),\n",
    "        bgcolor='#E2E2E2',\n",
    "        bordercolor='#FFFFFF',\n",
    "        borderwidth=2\n",
    "    ),\n",
    "    updatemenus=updatemenus\n",
    ")\n",
    "\n",
    "layout.update(title=\"Top Imports by Country\")\n",
    "fig = dict(data=imp_trs, layout=layout)\n",
    "ply.iplot(fig, filename='TopImports_DropDown')"
   ]
  },
  {
   "cell_type": "code",
   "execution_count": 92,
   "metadata": {},
   "outputs": [
    {
     "data": {
      "text/html": [
       "<iframe id=\"igraph\" scrolling=\"no\" style=\"border:none;\" seamless=\"seamless\" src=\"https://plot.ly/~tdlee/361.embed\" height=\"600px\" width=\"900px\"></iframe>"
      ],
      "text/plain": [
       "<plotly.tools.PlotlyDisplay object>"
      ]
     },
     "execution_count": 92,
     "metadata": {},
     "output_type": "execute_result"
    }
   ],
   "source": [
    "layout.update(title=\"Top Exports by Country\")\n",
    "fig = dict(data=exp_trs, layout=layout)\n",
    "ply.iplot(fig, filename='TopExports_DropDown')"
   ]
  },
  {
   "cell_type": "code",
   "execution_count": 81,
   "metadata": {},
   "outputs": [
    {
     "data": {
      "text/html": [
       "<iframe id=\"igraph\" scrolling=\"no\" style=\"border:none;\" seamless=\"seamless\" src=\"https://plot.ly/~tdlee/363.embed\" height=\"525px\" width=\"100%\"></iframe>"
      ],
      "text/plain": [
       "<plotly.tools.PlotlyDisplay object>"
      ]
     },
     "execution_count": 81,
     "metadata": {},
     "output_type": "execute_result"
    }
   ],
   "source": [
    "ply.iplot(exp_top_traces)"
   ]
  },
  {
   "cell_type": "code",
   "execution_count": null,
   "metadata": {},
   "outputs": [],
   "source": []
  }
 ],
 "metadata": {
  "kernelspec": {
   "display_name": "Python 3",
   "language": "python",
   "name": "python3"
  },
  "language_info": {
   "codemirror_mode": {
    "name": "ipython",
    "version": 3
   },
   "file_extension": ".py",
   "mimetype": "text/x-python",
   "name": "python",
   "nbconvert_exporter": "python",
   "pygments_lexer": "ipython3",
   "version": "3.6.4"
  }
 },
 "nbformat": 4,
 "nbformat_minor": 2
}
