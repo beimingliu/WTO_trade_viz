{
 "cells": [
  {
   "cell_type": "code",
   "execution_count": 1,
   "metadata": {},
   "outputs": [
    {
     "data": {
      "text/html": [
       "<script>requirejs.config({paths: { 'plotly': ['https://cdn.plot.ly/plotly-latest.min']},});if(!window.Plotly) {{require(['plotly'],function(plotly) {window.Plotly=plotly;});}}</script>"
      ],
      "text/vnd.plotly.v1+html": [
       "<script>requirejs.config({paths: { 'plotly': ['https://cdn.plot.ly/plotly-latest.min']},});if(!window.Plotly) {{require(['plotly'],function(plotly) {window.Plotly=plotly;});}}</script>"
      ]
     },
     "metadata": {},
     "output_type": "display_data"
    }
   ],
   "source": [
    "from plotly.offline import download_plotlyjs, init_notebook_mode, plot,iplot  #for offline plotting\n",
    "init_notebook_mode(connected=True)  #for offline plotting\n",
    "import plotly.graph_objs as go\n",
    "import plotly.plotly as py\n",
    "\n",
    "import pandas as pd\n",
    "import numpy as np"
   ]
  },
  {
   "cell_type": "code",
   "execution_count": 2,
   "metadata": {
    "collapsed": true
   },
   "outputs": [],
   "source": [
    "PATH = '../WDI_csv/'"
   ]
  },
  {
   "cell_type": "code",
   "execution_count": 3,
   "metadata": {},
   "outputs": [
    {
     "name": "stdout",
     "output_type": "stream",
     "text": [
      "\u001b[31mIndicators.csv\u001b[m\u001b[m        \u001b[31mWDIData.csv\u001b[m\u001b[m           \u001b[31mWDISeries.csv\u001b[m\u001b[m\r\n",
      "\u001b[31mWDICountry-Series.csv\u001b[m\u001b[m \u001b[31mWDIFootNote.csv\u001b[m\u001b[m\r\n",
      "\u001b[31mWDICountry.csv\u001b[m\u001b[m        \u001b[31mWDISeries-Time.csv\u001b[m\u001b[m\r\n"
     ]
    }
   ],
   "source": [
    "!ls {PATH}"
   ]
  },
  {
   "cell_type": "code",
   "execution_count": 4,
   "metadata": {
    "collapsed": true
   },
   "outputs": [],
   "source": [
    "df = pd.read_csv(PATH+'Indicators.csv')"
   ]
  },
  {
   "cell_type": "code",
   "execution_count": 5,
   "metadata": {},
   "outputs": [
    {
     "data": {
      "text/plain": [
       "(5656458, 6)"
      ]
     },
     "execution_count": 5,
     "metadata": {},
     "output_type": "execute_result"
    }
   ],
   "source": [
    "df.shape"
   ]
  },
  {
   "cell_type": "code",
   "execution_count": 6,
   "metadata": {},
   "outputs": [
    {
     "data": {
      "text/html": [
       "<div>\n",
       "<style>\n",
       "    .dataframe thead tr:only-child th {\n",
       "        text-align: right;\n",
       "    }\n",
       "\n",
       "    .dataframe thead th {\n",
       "        text-align: left;\n",
       "    }\n",
       "\n",
       "    .dataframe tbody tr th {\n",
       "        vertical-align: top;\n",
       "    }\n",
       "</style>\n",
       "<table border=\"1\" class=\"dataframe\">\n",
       "  <thead>\n",
       "    <tr style=\"text-align: right;\">\n",
       "      <th></th>\n",
       "      <th>CountryName</th>\n",
       "      <th>CountryCode</th>\n",
       "      <th>IndicatorName</th>\n",
       "      <th>IndicatorCode</th>\n",
       "      <th>Year</th>\n",
       "      <th>Value</th>\n",
       "    </tr>\n",
       "  </thead>\n",
       "  <tbody>\n",
       "    <tr>\n",
       "      <th>0</th>\n",
       "      <td>Arab World</td>\n",
       "      <td>ARB</td>\n",
       "      <td>Adolescent fertility rate (births per 1,000 wo...</td>\n",
       "      <td>SP.ADO.TFRT</td>\n",
       "      <td>1960</td>\n",
       "      <td>1.335609e+02</td>\n",
       "    </tr>\n",
       "    <tr>\n",
       "      <th>1</th>\n",
       "      <td>Arab World</td>\n",
       "      <td>ARB</td>\n",
       "      <td>Age dependency ratio (% of working-age populat...</td>\n",
       "      <td>SP.POP.DPND</td>\n",
       "      <td>1960</td>\n",
       "      <td>8.779760e+01</td>\n",
       "    </tr>\n",
       "    <tr>\n",
       "      <th>2</th>\n",
       "      <td>Arab World</td>\n",
       "      <td>ARB</td>\n",
       "      <td>Age dependency ratio, old (% of working-age po...</td>\n",
       "      <td>SP.POP.DPND.OL</td>\n",
       "      <td>1960</td>\n",
       "      <td>6.634579e+00</td>\n",
       "    </tr>\n",
       "    <tr>\n",
       "      <th>3</th>\n",
       "      <td>Arab World</td>\n",
       "      <td>ARB</td>\n",
       "      <td>Age dependency ratio, young (% of working-age ...</td>\n",
       "      <td>SP.POP.DPND.YG</td>\n",
       "      <td>1960</td>\n",
       "      <td>8.102333e+01</td>\n",
       "    </tr>\n",
       "    <tr>\n",
       "      <th>4</th>\n",
       "      <td>Arab World</td>\n",
       "      <td>ARB</td>\n",
       "      <td>Arms exports (SIPRI trend indicator values)</td>\n",
       "      <td>MS.MIL.XPRT.KD</td>\n",
       "      <td>1960</td>\n",
       "      <td>3.000000e+06</td>\n",
       "    </tr>\n",
       "  </tbody>\n",
       "</table>\n",
       "</div>"
      ],
      "text/plain": [
       "  CountryName CountryCode                                      IndicatorName  \\\n",
       "0  Arab World         ARB  Adolescent fertility rate (births per 1,000 wo...   \n",
       "1  Arab World         ARB  Age dependency ratio (% of working-age populat...   \n",
       "2  Arab World         ARB  Age dependency ratio, old (% of working-age po...   \n",
       "3  Arab World         ARB  Age dependency ratio, young (% of working-age ...   \n",
       "4  Arab World         ARB        Arms exports (SIPRI trend indicator values)   \n",
       "\n",
       "    IndicatorCode  Year         Value  \n",
       "0     SP.ADO.TFRT  1960  1.335609e+02  \n",
       "1     SP.POP.DPND  1960  8.779760e+01  \n",
       "2  SP.POP.DPND.OL  1960  6.634579e+00  \n",
       "3  SP.POP.DPND.YG  1960  8.102333e+01  \n",
       "4  MS.MIL.XPRT.KD  1960  3.000000e+06  "
      ]
     },
     "execution_count": 6,
     "metadata": {},
     "output_type": "execute_result"
    }
   ],
   "source": [
    "df.head()"
   ]
  },
  {
   "cell_type": "code",
   "execution_count": 7,
   "metadata": {},
   "outputs": [
    {
     "name": "stdout",
     "output_type": "stream",
     "text": [
      "CPU times: user 564 ms, sys: 3.27 ms, total: 567 ms\n",
      "Wall time: 567 ms\n"
     ]
    }
   ],
   "source": [
    "%%time\n",
    "indicators_dict = dict(zip(df['IndicatorName'], df['IndicatorCode']))"
   ]
  },
  {
   "cell_type": "code",
   "execution_count": 8,
   "metadata": {
    "collapsed": true
   },
   "outputs": [],
   "source": [
    "reverse_dict = dict()\n",
    "for i,j in indicators_dict.items():\n",
    "    reverse_dict[j] = i"
   ]
  },
  {
   "cell_type": "code",
   "execution_count": 9,
   "metadata": {
    "collapsed": true
   },
   "outputs": [],
   "source": [
    "df = df[(df['CountryCode']=='USA') | (df['CountryCode']=='CHN')]\n",
    "# tmp = pd.DataFrame(df_US[(df_US['IndicatorCode'].str.contains('.TAX.'))].groupby('IndicatorCode').size().reset_index())\n",
    "# tmp.columns = ['IndicatorCode', 'size']\n",
    "# tmp['IndicatorName'] = tmp['IndicatorCode'].map(reverse_dict)\n",
    "# tmp = tmp.sort_values('size', ascending=False)"
   ]
  },
  {
   "cell_type": "code",
   "execution_count": 10,
   "metadata": {},
   "outputs": [
    {
     "data": {
      "text/html": [
       "<div>\n",
       "<style>\n",
       "    .dataframe thead tr:only-child th {\n",
       "        text-align: right;\n",
       "    }\n",
       "\n",
       "    .dataframe thead th {\n",
       "        text-align: left;\n",
       "    }\n",
       "\n",
       "    .dataframe tbody tr th {\n",
       "        vertical-align: top;\n",
       "    }\n",
       "</style>\n",
       "<table border=\"1\" class=\"dataframe\">\n",
       "  <thead>\n",
       "    <tr style=\"text-align: right;\">\n",
       "      <th></th>\n",
       "      <th>CountryName</th>\n",
       "      <th>CountryCode</th>\n",
       "      <th>IndicatorName</th>\n",
       "      <th>IndicatorCode</th>\n",
       "      <th>Year</th>\n",
       "      <th>Value</th>\n",
       "    </tr>\n",
       "  </thead>\n",
       "  <tbody>\n",
       "    <tr>\n",
       "      <th>4352529</th>\n",
       "      <td>China</td>\n",
       "      <td>CHN</td>\n",
       "      <td>Logistics performance index: Ability to track ...</td>\n",
       "      <td>LP.LPI.TRAC.XQ</td>\n",
       "      <td>2007</td>\n",
       "      <td>3.370000</td>\n",
       "    </tr>\n",
       "    <tr>\n",
       "      <th>4473168</th>\n",
       "      <td>United States</td>\n",
       "      <td>USA</td>\n",
       "      <td>Logistics performance index: Ability to track ...</td>\n",
       "      <td>LP.LPI.TRAC.XQ</td>\n",
       "      <td>2007</td>\n",
       "      <td>4.010000</td>\n",
       "    </tr>\n",
       "    <tr>\n",
       "      <th>4893735</th>\n",
       "      <td>China</td>\n",
       "      <td>CHN</td>\n",
       "      <td>Logistics performance index: Ability to track ...</td>\n",
       "      <td>LP.LPI.TRAC.XQ</td>\n",
       "      <td>2010</td>\n",
       "      <td>3.550000</td>\n",
       "    </tr>\n",
       "    <tr>\n",
       "      <th>5018397</th>\n",
       "      <td>United States</td>\n",
       "      <td>USA</td>\n",
       "      <td>Logistics performance index: Ability to track ...</td>\n",
       "      <td>LP.LPI.TRAC.XQ</td>\n",
       "      <td>2010</td>\n",
       "      <td>4.170000</td>\n",
       "    </tr>\n",
       "    <tr>\n",
       "      <th>5253057</th>\n",
       "      <td>China</td>\n",
       "      <td>CHN</td>\n",
       "      <td>Logistics performance index: Ability to track ...</td>\n",
       "      <td>LP.LPI.TRAC.XQ</td>\n",
       "      <td>2012</td>\n",
       "      <td>3.520000</td>\n",
       "    </tr>\n",
       "    <tr>\n",
       "      <th>5370208</th>\n",
       "      <td>United States</td>\n",
       "      <td>USA</td>\n",
       "      <td>Logistics performance index: Ability to track ...</td>\n",
       "      <td>LP.LPI.TRAC.XQ</td>\n",
       "      <td>2012</td>\n",
       "      <td>4.110000</td>\n",
       "    </tr>\n",
       "    <tr>\n",
       "      <th>5564532</th>\n",
       "      <td>China</td>\n",
       "      <td>CHN</td>\n",
       "      <td>Logistics performance index: Ability to track ...</td>\n",
       "      <td>LP.LPI.TRAC.XQ</td>\n",
       "      <td>2014</td>\n",
       "      <td>3.503259</td>\n",
       "    </tr>\n",
       "    <tr>\n",
       "      <th>5637390</th>\n",
       "      <td>United States</td>\n",
       "      <td>USA</td>\n",
       "      <td>Logistics performance index: Ability to track ...</td>\n",
       "      <td>LP.LPI.TRAC.XQ</td>\n",
       "      <td>2014</td>\n",
       "      <td>4.137596</td>\n",
       "    </tr>\n",
       "  </tbody>\n",
       "</table>\n",
       "</div>"
      ],
      "text/plain": [
       "           CountryName CountryCode  \\\n",
       "4352529          China         CHN   \n",
       "4473168  United States         USA   \n",
       "4893735          China         CHN   \n",
       "5018397  United States         USA   \n",
       "5253057          China         CHN   \n",
       "5370208  United States         USA   \n",
       "5564532          China         CHN   \n",
       "5637390  United States         USA   \n",
       "\n",
       "                                             IndicatorName   IndicatorCode  \\\n",
       "4352529  Logistics performance index: Ability to track ...  LP.LPI.TRAC.XQ   \n",
       "4473168  Logistics performance index: Ability to track ...  LP.LPI.TRAC.XQ   \n",
       "4893735  Logistics performance index: Ability to track ...  LP.LPI.TRAC.XQ   \n",
       "5018397  Logistics performance index: Ability to track ...  LP.LPI.TRAC.XQ   \n",
       "5253057  Logistics performance index: Ability to track ...  LP.LPI.TRAC.XQ   \n",
       "5370208  Logistics performance index: Ability to track ...  LP.LPI.TRAC.XQ   \n",
       "5564532  Logistics performance index: Ability to track ...  LP.LPI.TRAC.XQ   \n",
       "5637390  Logistics performance index: Ability to track ...  LP.LPI.TRAC.XQ   \n",
       "\n",
       "         Year     Value  \n",
       "4352529  2007  3.370000  \n",
       "4473168  2007  4.010000  \n",
       "4893735  2010  3.550000  \n",
       "5018397  2010  4.170000  \n",
       "5253057  2012  3.520000  \n",
       "5370208  2012  4.110000  \n",
       "5564532  2014  3.503259  \n",
       "5637390  2014  4.137596  "
      ]
     },
     "execution_count": 10,
     "metadata": {},
     "output_type": "execute_result"
    }
   ],
   "source": [
    "#IS.RRS.GOOD.MT.K6\n",
    "#IS.RRS.TOTL.KM\n",
    "\n",
    "#port IS.SHP.GOOD.TU\n",
    "#LP.LPI.CUST.XQ\n",
    "#LP.LPI.INFR.XQ\n",
    "#LP.LPI.ITRN.XQ\n",
    "#LP.LPI.LOGS.XQ\n",
    "#LP.LPI.TIME.XQ\n",
    "#LP.LPI.TRAC.XQ\n",
    "df[df['IndicatorCode'] == 'LP.LPI.TRAC.XQ']"
   ]
  },
  {
   "cell_type": "code",
   "execution_count": 11,
   "metadata": {
    "collapsed": true
   },
   "outputs": [],
   "source": [
    "font_dict = dict(\n",
    "            family='Roboto',\n",
    "            size=20\n",
    "        )"
   ]
  },
  {
   "cell_type": "code",
   "execution_count": 12,
   "metadata": {},
   "outputs": [
    {
     "name": "stdout",
     "output_type": "stream",
     "text": [
      "https://plot.ly/~BenLiu1991/91\n"
     ]
    },
    {
     "data": {
      "text/html": [
       "<iframe id=\"igraph\" scrolling=\"no\" style=\"border:none;\" seamless=\"seamless\" src=\"https://plot.ly/~BenLiu1991/91.embed\" height=\"525px\" width=\"100%\"></iframe>"
      ],
      "text/plain": [
       "<plotly.tools.PlotlyDisplay object>"
      ]
     },
     "execution_count": 12,
     "metadata": {},
     "output_type": "execute_result"
    }
   ],
   "source": [
    "# Create a trace\n",
    "\n",
    "ind = 'IS.SHP.GOOD.TU'\n",
    "values = df[df['IndicatorCode'] == ind][['Year', 'Value', 'CountryCode']]\n",
    "CN = values[values['CountryCode']=='CHN']\n",
    "US = values[values['CountryCode']=='USA']\n",
    "trace0 = go.Scatter(\n",
    "    x = CN.Year,\n",
    "    y = CN.Value,\n",
    "    name = 'China',\n",
    "    line = dict(width=6)\n",
    ")\n",
    "trace1 = go.Scatter(\n",
    "    x = US.Year,\n",
    "    y = US.Value,\n",
    "    name = 'United States',\n",
    "    line = dict(width=6)\n",
    ")\n",
    "font_dict = dict(\n",
    "            family='Roboto',\n",
    "            size=20\n",
    "        )\n",
    "    \n",
    "layout = dict(title = reverse_dict[ind],\n",
    "              xaxis = dict(title = 'Year'),\n",
    "              font = font_dict\n",
    "              #yaxis = dict(title = 'Temperature (degrees F)'),\n",
    "              )\n",
    "\n",
    "data = [trace0, trace1]\n",
    "fig = dict(data=data, layout=layout)\n",
    "\n",
    "print(py.plot(fig, filename=reverse_dict[ind], auto_open=False))\n",
    "py.iplot(fig, filename=reverse_dict[ind])\n"
   ]
  },
  {
   "cell_type": "code",
   "execution_count": 13,
   "metadata": {},
   "outputs": [
    {
     "name": "stdout",
     "output_type": "stream",
     "text": [
      "https://plot.ly/~BenLiu1991/87\n"
     ]
    },
    {
     "data": {
      "text/html": [
       "<iframe id=\"igraph\" scrolling=\"no\" style=\"border:none;\" seamless=\"seamless\" src=\"https://plot.ly/~BenLiu1991/87.embed\" height=\"525px\" width=\"100%\"></iframe>"
      ],
      "text/plain": [
       "<plotly.tools.PlotlyDisplay object>"
      ]
     },
     "execution_count": 13,
     "metadata": {},
     "output_type": "execute_result"
    }
   ],
   "source": [
    "# Create a trace\n",
    "\n",
    "\n",
    "\n",
    "ind = 'IS.RRS.GOOD.MT.K6'\n",
    "values = df[df['IndicatorCode'] == ind][['Year', 'Value', 'CountryCode']]\n",
    "CN = values[values['CountryCode']=='CHN']\n",
    "US = values[values['CountryCode']=='USA']\n",
    "trace0 = go.Scatter(\n",
    "    x = CN.Year,\n",
    "    y = CN.Value,\n",
    "    name = 'China',\n",
    "    line = dict(width=6)\n",
    ")\n",
    "trace1 = go.Scatter(\n",
    "    x = US.Year,\n",
    "    y = US.Value,\n",
    "    name = 'United States',\n",
    "    line = dict(width=6)\n",
    ")\n",
    "\n",
    "layout = dict(title = reverse_dict[ind],\n",
    "              xaxis = dict(title = 'Year'),\n",
    "              #yaxis = dict(title = 'Temperature (degrees F)'),\n",
    "              )\n",
    "\n",
    "data = [trace0, trace1]\n",
    "fig = dict(data=data, layout=layout)\n",
    "\n",
    "print(py.plot(fig, filename=reverse_dict[ind], auto_open=False))\n",
    "py.iplot(fig, filename=reverse_dict[ind])\n"
   ]
  },
  {
   "cell_type": "code",
   "execution_count": 22,
   "metadata": {},
   "outputs": [
    {
     "name": "stdout",
     "output_type": "stream",
     "text": [
      "https://plot.ly/~BenLiu1991/97\n"
     ]
    }
   ],
   "source": [
    "from plotly import tools\n",
    "\n",
    "inds = ['LP.LPI.CUST.XQ',\n",
    "'LP.LPI.INFR.XQ',\n",
    "'LP.LPI.ITRN.XQ',\n",
    "'LP.LPI.LOGS.XQ',\n",
    "'LP.LPI.TIME.XQ',\n",
    "'LP.LPI.TRAC.XQ']\n",
    "\n",
    "dd = dict()\n",
    "dd['LP.LPI.CUST.XQ'] = 'Customs clearance efficiency'\n",
    "dd['LP.LPI.INFR.XQ'] = 'Infrastructure quality'\n",
    "dd['LP.LPI.ITRN.XQ'] = 'Shipments arrangement'\n",
    "dd['LP.LPI.LOGS.XQ'] = 'Logistics services'\n",
    "dd['LP.LPI.TIME.XQ'] = 'Shipments on time'\n",
    "dd['LP.LPI.TRAC.XQ'] = 'Tracking ability'\n",
    "\n",
    "\n",
    "Data1 = []\n",
    "Data2 = []\n",
    "for ind in inds:\n",
    "    values = df[df['IndicatorCode'] == ind][['Year', 'Value', 'CountryCode']]\n",
    "    CN = values[values['CountryCode']=='CHN']\n",
    "    US = values[values['CountryCode']=='USA']\n",
    "    text = reverse_dict[ind].split(\": \")[1]\n",
    "    trace1 = go.Scatter(\n",
    "        x = CN.Year,\n",
    "        y = CN.Value,\n",
    "        name = dd[ind],\n",
    "        text=text, \n",
    "        hoverinfo='text',\n",
    "        line = dict(width=6)\n",
    "    )\n",
    "    trace2 = go.Scatter(\n",
    "        x = US.Year,\n",
    "        y = US.Value,\n",
    "        name = dd[ind],\n",
    "        text=text, \n",
    "        hoverinfo='text',\n",
    "        line = dict(width=6)\n",
    "    )\n",
    "    Data1.append(trace1)\n",
    "    Data2.append(trace2)\n",
    "\n",
    "\n",
    "layout1 = dict(title = 'Logistics performance index: China',\n",
    "              xaxis = dict(title = 'Year'),\n",
    "              )\n",
    "\n",
    "\n",
    "layout2 = dict(title = 'Logistics performance index: United States',\n",
    "              xaxis = dict(title = 'Year'),\n",
    "              )\n",
    "\n",
    "fig1 = dict(data=Data1, layout=layout1)\n",
    "fig2 = dict(data=Data2, layout=layout2)\n",
    "#py.iplot(fig, filename='Logistics performance index: China')\n",
    "\n",
    "\n",
    "py.iplot(fig1, filename='Logistics performance index(1=low to 5=high): China')\n",
    "print(py.plot(fig1, filename='Logistics performance index: China', auto_open=False))"
   ]
  },
  {
   "cell_type": "code",
   "execution_count": 23,
   "metadata": {},
   "outputs": [
    {
     "name": "stdout",
     "output_type": "stream",
     "text": [
      "https://plot.ly/~BenLiu1991/103\n"
     ]
    }
   ],
   "source": [
    "py.iplot(fig2, filename='Logistics performance index(1=low to 5=high): United States')\n",
    "print(py.plot(fig2, filename='Logistics performance index: United States', auto_open=False))"
   ]
  },
  {
   "cell_type": "code",
   "execution_count": 19,
   "metadata": {},
   "outputs": [
    {
     "name": "stdout",
     "output_type": "stream",
     "text": [
      "Efficiency of customs clearance process (1=low to 5=high)\n",
      "Quality of trade and transport-related infrastructure (1=low to 5=high)\n",
      "Ease of arranging competitively priced shipments (1=low to 5=high)\n",
      "Competence and quality of logistics services (1=low to 5=high)\n",
      "Frequency with which shipments reach consignee within scheduled or expected time (1=low to 5=high)\n",
      "Ability to track and trace consignments (1=low to 5=high)\n"
     ]
    }
   ],
   "source": [
    "for ind in inds:\n",
    "    print(reverse_dict[ind].split(\": \")[1])"
   ]
  },
  {
   "cell_type": "markdown",
   "metadata": {},
   "source": [
    "# Dropdown"
   ]
  },
  {
   "cell_type": "code",
   "execution_count": 6,
   "metadata": {
    "collapsed": true
   },
   "outputs": [],
   "source": [
    "# Indicator to look for to Start a business\n",
    "d = dict()\n",
    "d['Time required to start a business (days)'] = 'IC.REG.DURS'\n",
    "d['Start-up procedures to register a business (number)'] = 'IC.REG.PROC'\n",
    "d['Time required to register property (days)'] = 'IC.PRP.DURS'\n",
    "d['Documents to export (number)'] = 'IC.EXP.DOCS'\n",
    "d['Documents to import (number)'] = 'IC.IMP.DOCS'\n",
    "d['Cost to export (USdollar per container)'] = 'IC.EXP.COST.CD'\n",
    "d['Cost to import (USdollar per container)'] = 'IC.IMP.COST.CD'\n",
    "d['Wage and salaried workers, total (% of total employed)'] = 'SL.EMP.WORK.ZS'"
   ]
  },
  {
   "cell_type": "code",
   "execution_count": 7,
   "metadata": {},
   "outputs": [
    {
     "data": {
      "text/plain": [
       "['Time required to start a business (days)',\n",
       " 'Start-up procedures to register a business (number)',\n",
       " 'Time required to register property (days)',\n",
       " 'Documents to export (number)',\n",
       " 'Documents to import (number)',\n",
       " 'Cost to export (USdollar per container)',\n",
       " 'Cost to import (USdollar per container)',\n",
       " 'Wage and salaried workers, total (% of total employed)']"
      ]
     },
     "execution_count": 7,
     "metadata": {},
     "output_type": "execute_result"
    }
   ],
   "source": [
    "button_names = [i for i in d.keys()] # i.split(\" (\")[0]\n",
    "button_names"
   ]
  },
  {
   "cell_type": "code",
   "execution_count": 8,
   "metadata": {
    "collapsed": true
   },
   "outputs": [],
   "source": [
    "year = 2013\n",
    "Data = []\n",
    "Layout = []\n",
    "\n",
    "for indicator in button_names:\n",
    "    \n",
    "    tmp = df[(df['Year'] == year)]\n",
    "    tmp = tmp[tmp['IndicatorCode'] == d[indicator]][['CountryName', 'CountryCode', 'Value']].sort_values('Value')    \n",
    "    tmp1 = pd.concat([tmp.head(10), tmp.tail(10)])\n",
    "    tmp1 = pd.concat([tmp1, tmp.loc[(tmp['CountryName'] == 'China') | (tmp['CountryName'] == 'United States')]])\n",
    "    del tmp\n",
    "    \n",
    "    # bar chart with highlights on two countries\n",
    "    tmp1 = tmp1.sort_values('Value')\n",
    "    y = tmp1['CountryCode']\n",
    "    color=np.array(['rgba(204, 204, 204, 1)'] * y.shape[0])\n",
    "    color[y=='CHN'] = 'rgba(222,45,38,0.9)'\n",
    "    color[y=='USA'] = 'rgba(55, 128, 191, 0.9)'\n",
    "    \n",
    "    graph = go.Bar(\n",
    "        x=tmp1.Value,\n",
    "        y=y,\n",
    "        name = button_names[counter],\n",
    "        #visible=False,\n",
    "        orientation = 'h',\n",
    "        marker=dict(color=color.tolist()) \n",
    "    )\n",
    "    \n",
    "    counter += 1\n",
    "    Data.append(graph)"
   ]
  },
  {
   "cell_type": "code",
   "execution_count": 9,
   "metadata": {
    "collapsed": true
   },
   "outputs": [],
   "source": [
    "buttons = []\n",
    "counter = 0\n",
    "for item in button_names:\n",
    "    vis = [False]*len(button_names)\n",
    "    vis[counter] = True\n",
    "    button = dict(label = item,\n",
    "                  method = 'update',\n",
    "                  args = [{'visible': vis},\n",
    "                          {'title': button_names[counter] + ' in '+ str(year) + ': Top and Bottom 10 Countries'}],\n",
    "                  \n",
    "                 )\n",
    "    buttons.append(button)\n",
    "    counter += 1"
   ]
  },
  {
   "cell_type": "code",
   "execution_count": 44,
   "metadata": {
    "collapsed": true
   },
   "outputs": [],
   "source": [
    "updatemenus = list([\n",
    "    dict(active=-1,\n",
    "         buttons=buttons,\n",
    "        direction='down',\n",
    "        x = 1,\n",
    "        xanchor = 'right',\n",
    "        y = 1,\n",
    "        yanchor = 'bottom',\n",
    "        showactive = True,\n",
    "        )\n",
    "])"
   ]
  },
  {
   "cell_type": "code",
   "execution_count": 45,
   "metadata": {
    "collapsed": true
   },
   "outputs": [],
   "source": [
    "layout = dict(\n",
    "              title='Some of the important indicators for companies that trades internationally', \n",
    "              showlegend=False,\n",
    "              updatemenus=updatemenus,\n",
    "              hovermode='closest'\n",
    "             )"
   ]
  },
  {
   "cell_type": "code",
   "execution_count": 47,
   "metadata": {},
   "outputs": [
    {
     "data": {
      "text/plain": [
       "'https://plot.ly/~BenLiu1991/85'"
      ]
     },
     "execution_count": 47,
     "metadata": {},
     "output_type": "execute_result"
    }
   ],
   "source": [
    "fig = dict(data=Data, layout=layout)\n",
    "py.plot(fig, filename='update_dropdown', auto_open=False)"
   ]
  },
  {
   "cell_type": "code",
   "execution_count": null,
   "metadata": {
    "collapsed": true
   },
   "outputs": [],
   "source": []
  },
  {
   "cell_type": "code",
   "execution_count": null,
   "metadata": {
    "collapsed": true
   },
   "outputs": [],
   "source": []
  }
 ],
 "metadata": {
  "kernelspec": {
   "display_name": "Python 3",
   "language": "python",
   "name": "python3"
  },
  "language_info": {
   "codemirror_mode": {
    "name": "ipython",
    "version": 3
   },
   "file_extension": ".py",
   "mimetype": "text/x-python",
   "name": "python",
   "nbconvert_exporter": "python",
   "pygments_lexer": "ipython3",
   "version": "3.6.2"
  }
 },
 "nbformat": 4,
 "nbformat_minor": 2
}
